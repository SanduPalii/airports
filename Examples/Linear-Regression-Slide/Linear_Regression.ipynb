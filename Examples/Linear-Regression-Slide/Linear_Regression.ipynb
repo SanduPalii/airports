{
 "cells": [
  {
   "cell_type": "code",
   "execution_count": 5,
   "id": "a0927bb2-8b51-4cdd-9430-e37804763b70",
   "metadata": {},
   "outputs": [],
   "source": [
    "import pandas as pd\n",
    "import numpy as np\n",
    "import matplotlib.pyplot as plt\n",
    "from sklearn import linear_model\n"
   ]
  },
  {
   "cell_type": "code",
   "execution_count": 6,
   "id": "8efa8fc3-efe8-4488-b148-58c4a4e4e285",
   "metadata": {},
   "outputs": [
    {
     "name": "stdout",
     "output_type": "stream",
     "text": [
      "15.01587615969978\n",
      "0.1349421453142917\n"
     ]
    }
   ],
   "source": [
    "df = pd.read_csv(\"SoftKeyboard.csv\")\n",
    "\n",
    "m = df.cov().iloc[0][1]/df.touch.var()\n",
    "\n",
    "x = df.touch.mean()\n",
    "y = df.stylus.mean()\n",
    "\n",
    "x,y,m\n",
    "\n",
    "b = y - m * x\n",
    "print(b)\n",
    "print(m)\n",
    "\n"
   ]
  },
  {
   "cell_type": "code",
   "execution_count": 66,
   "id": "d42f6782-6692-4f22-b144-d64e1a555de7",
   "metadata": {},
   "outputs": [
    {
     "data": {
      "text/plain": [
       "[<matplotlib.lines.Line2D at 0x1c630564490>]"
      ]
     },
     "execution_count": 66,
     "metadata": {},
     "output_type": "execute_result"
    },
    {
     "data": {
      "image/png": "[encoded data removed]",
      "text/plain": [
       "<Figure size 432x288 with 1 Axes>"
      ]
     },
     "metadata": {
      "needs_background": "light"
     },
     "output_type": "display_data"
    }
   ],
   "source": [
    "%matplotlib inline\n",
    "plt.xlabel('Touch Typing Speed(wpm)')\n",
    "plt.ylabel('Stylus Tapping Speed(wpm)')\n",
    "plt.xlim(0, 80)\n",
    "plt.ylim(0, 35)\n",
    "arr = np.array(df.touch)\n",
    "m = df.cov().iloc[0][1]/df.touch.var()\n",
    "\n",
    "x = df.touch.mean()\n",
    "y = df.stylus.mean()\n",
    "\n",
    "x,y,m\n",
    "\n",
    "y =  m * arr + b\n",
    "y\n",
    "plt.scatter(df.touch, df.stylus, color = 'blue', marker = '.')\n",
    "plt.plot(arr,y, color = 'red')"
   ]
  },
  {
   "cell_type": "code",
   "execution_count": null,
   "id": "45a3b5f5-63a8-4085-a856-2b4dd07573a0",
   "metadata": {},
   "outputs": [],
   "source": []
  },
  {
   "cell_type": "code",
   "execution_count": 55,
   "id": "ba0e3aad-5f29-408b-b5c1-86e610773f98",
   "metadata": {},
   "outputs": [
    {
     "data": {
      "text/plain": [
       "LinearRegression()"
      ]
     },
     "execution_count": 55,
     "metadata": {},
     "output_type": "execute_result"
    }
   ],
   "source": [
    "reg.fit(df[['touch']], df.stylus)\n",
    "reg = linear_model.LinearRegression()\n"
   ]
  },
  {
   "cell_type": "code",
   "execution_count": 52,
   "id": "7faecaa3-3e95-450f-9cf2-8b855a379280",
   "metadata": {},
   "outputs": [
    {
     "data": {
      "text/plain": [
       "array([22.5726363])"
      ]
     },
     "execution_count": 52,
     "metadata": {},
     "output_type": "execute_result"
    }
   ],
   "source": [
    "reg.predict([[56]])"
   ]
  },
  {
   "cell_type": "code",
   "execution_count": 53,
   "id": "c1b083b9-849e-48ef-ac13-8f8d1a69b3ff",
   "metadata": {},
   "outputs": [
    {
     "data": {
      "text/plain": [
       "array([0.13494215])"
      ]
     },
     "execution_count": 53,
     "metadata": {},
     "output_type": "execute_result"
    }
   ],
   "source": [
    "reg.coef_"
   ]
  },
  {
   "cell_type": "code",
   "execution_count": 54,
   "id": "95261dbb-a30d-445a-af91-206d9d8e3e4f",
   "metadata": {},
   "outputs": [
    {
     "data": {
      "text/plain": [
       "15.01587615969978"
      ]
     },
     "execution_count": 54,
     "metadata": {},
     "output_type": "execute_result"
    }
   ],
   "source": [
    "reg.intercept_"
   ]
  },
  {
   "cell_type": "code",
   "execution_count": null,
   "id": "66e9bb04-60ae-48c5-8c68-f38e836adf78",
   "metadata": {},
   "outputs": [],
   "source": []
  }
 ],
 "metadata": {
  "kernelspec": {
   "display_name": "Python 3 (ipykernel)",
   "language": "python",
   "name": "python3"
  },
  "language_info": {
   "codemirror_mode": {
    "name": "ipython",
    "version": 3
   },
   "file_extension": ".py",
   "mimetype": "text/x-python",
   "name": "python",
   "nbconvert_exporter": "python",
   "pygments_lexer": "ipython3",
   "version": "3.9.5"
  }
 },
 "nbformat": 4,
 "nbformat_minor": 5
}
