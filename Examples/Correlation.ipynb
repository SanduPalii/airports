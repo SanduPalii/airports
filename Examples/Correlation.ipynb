{
 "cells": [
  {
   "cell_type": "markdown",
   "id": "17b276c4-f789-4f8c-a907-7952a4d96ad4",
   "metadata": {},
   "source": [
    "# Studying covariance and correlation \n",
    "You might want to look at https://www.statisticshowto.com/probability-and-statistics/statistics-definitions/covariance/"
   ]
  },
  {
   "cell_type": "code",
   "execution_count": 89,
   "id": "362df147-fc33-4440-ae7c-714edd20ef7a",
   "metadata": {},
   "outputs": [],
   "source": [
    "import matplotlib.pyplot as plt\n",
    "import numpy as np\n",
    "import seaborn as sns"
   ]
  },
  {
   "cell_type": "markdown",
   "id": "38b0ca9d-47dd-49cb-a5c7-380a338c9d15",
   "metadata": {},
   "source": [
    "We utilize very simple data to calculate the covariance matrix. This is basically the data found from the link above. So, we are interrested in seeing how much the two variables vary together. So that is it so that, for example, when x gets its big values also y gets it big values and when x gets small values then y tends to gets it smaller values also."
   ]
  },
  {
   "cell_type": "code",
   "execution_count": 90,
   "id": "3cc29010-5390-4db8-87b1-644b35108e1f",
   "metadata": {},
   "outputs": [],
   "source": [
    "x = [2.1, 2.5, 3.6, 4.0]\n",
    "y = [8, 10, 12, 14]\n",
    "\n",
    "# Use this on a second run as discussed on the lecture video!\n",
    "#x = [0, 2.5, 3.6, 4.0]\n",
    "#y = [0, 10, 12, 14]"
   ]
  },
  {
   "cell_type": "markdown",
   "id": "570a259b-2bec-4b77-bfab-8d674094e3d6",
   "metadata": {},
   "source": [
    "Next the values of x and y are multiplied by two. It is discussed just in a second why we do this"
   ]
  },
  {
   "cell_type": "code",
   "execution_count": 91,
   "id": "f12bf2a9-e244-48df-8b56-a9b1d7117bfe",
   "metadata": {},
   "outputs": [],
   "source": [
    "x2=np.array(x)*2\n",
    "y2=np.array(y)*2"
   ]
  },
  {
   "cell_type": "code",
   "execution_count": 92,
   "id": "8c5c5640-ec10-4f30-9a06-6570716c24b7",
   "metadata": {},
   "outputs": [
    {
     "data": {
      "text/plain": [
       "array([4.2, 5. , 7.2, 8. ])"
      ]
     },
     "execution_count": 92,
     "metadata": {},
     "output_type": "execute_result"
    }
   ],
   "source": [
    "x2"
   ]
  },
  {
   "cell_type": "markdown",
   "id": "8bd8c75a-2cf9-48ef-8f62-3e240972a247",
   "metadata": {},
   "source": [
    "By plotting the values of (x,y) pairs and (x2,y2) pairs we can see that the two subplots on the top look the same apart from the x and y axis scales. The botton figure just plots both data in same subplot."
   ]
  },
  {
   "cell_type": "code",
   "execution_count": 93,
   "id": "228e122d-fb0c-4e17-ae9e-dd06b7d0cdb5",
   "metadata": {},
   "outputs": [
    {
     "data": {
      "text/plain": [
       "[<matplotlib.lines.Line2D at 0x140562a70>]"
      ]
     },
     "execution_count": 93,
     "metadata": {},
     "output_type": "execute_result"
    },
    {
     "data": {
      "image/png": "[encoded data removed]",
      "text/plain": [
       "<Figure size 640x480 with 3 Axes>"
      ]
     },
     "metadata": {},
     "output_type": "display_data"
    }
   ],
   "source": [
    "fig = plt.figure() \n",
    "ax1 = fig.add_subplot(2,2,1)\n",
    "ax1.plot(x,y,'b+')\n",
    "\n",
    "ax2 = fig.add_subplot(2,2,2)\n",
    "ax2.plot(x2,y2,'y+')\n",
    "\n",
    "ax3 = fig.add_subplot(2,2,3)\n",
    "ax3.plot(x,y,'b+')\n",
    "ax3.plot(x2,y2,'y+')"
   ]
  },
  {
   "cell_type": "markdown",
   "id": "88c37664-3b88-4816-be1a-162f45a0b991",
   "metadata": {},
   "source": [
    "Althought the figures look the same - part from the x and y axes scales - the covariances we get are different as calculated next below."
   ]
  },
  {
   "cell_type": "code",
   "execution_count": 94,
   "id": "c950cb46-e3db-44dc-b4c1-2893972ed0ae",
   "metadata": {},
   "outputs": [
    {
     "data": {
      "text/plain": [
       "array([[0.80333333, 2.26666667],\n",
       "       [2.26666667, 6.66666667]])"
      ]
     },
     "execution_count": 94,
     "metadata": {},
     "output_type": "execute_result"
    }
   ],
   "source": [
    "np.cov(x,y)"
   ]
  },
  {
   "cell_type": "code",
   "execution_count": 95,
   "id": "0beba97f-447b-4434-9622-82aab56d60de",
   "metadata": {},
   "outputs": [
    {
     "data": {
      "text/plain": [
       "array([[ 3.21333333,  9.06666667],\n",
       "       [ 9.06666667, 26.66666667]])"
      ]
     },
     "execution_count": 95,
     "metadata": {},
     "output_type": "execute_result"
    }
   ],
   "source": [
    "np.cov(x2,y2)"
   ]
  },
  {
   "cell_type": "markdown",
   "id": "c4a2c36c-d16f-421e-a9c9-492502468ac1",
   "metadata": {},
   "source": [
    "The original link above states that \n",
    ">\"Covariance is a measure of how much two random variables vary together\"\n",
    "\n",
    "The matrix above has four cells. The diagonal cells 0.803333... and 6.66666... are covariances with the variables x and y with respect to themselves. But this is actually just the standard deviation of x and y raised to the second power, respectively. We check this below just for you to see..."
   ]
  },
  {
   "cell_type": "code",
   "execution_count": 96,
   "id": "6782ec42-7510-44a5-9c72-da8af98109e9",
   "metadata": {},
   "outputs": [
    {
     "data": {
      "text/plain": [
       "0.8962886439832501"
      ]
     },
     "execution_count": 96,
     "metadata": {},
     "output_type": "execute_result"
    }
   ],
   "source": [
    "np.std(x, ddof=1)   #ddof means the degree of freedom, we discuss this in a class\n",
    "                    #but in reality this is much beyond the level of this course."
   ]
  },
  {
   "cell_type": "code",
   "execution_count": 97,
   "id": "c94ce899-33ad-4df0-8762-b0ad136dc86b",
   "metadata": {},
   "outputs": [
    {
     "data": {
      "text/plain": [
       "0.8033333333333333"
      ]
     },
     "execution_count": 97,
     "metadata": {},
     "output_type": "execute_result"
    }
   ],
   "source": [
    "np.std(x, ddof=1)**2"
   ]
  },
  {
   "cell_type": "markdown",
   "id": "f8367feb-feb6-4753-897c-cdf3172c8b71",
   "metadata": {},
   "source": [
    "The other two cells provide the co-variance between variables x and y. You can see that these values are identical. This is because the covariance is the same, no matter which way you calculate the co-variance.\n",
    "\n",
    "Remember, that we are interrested in interpreting if these values tell us whether there is clear dependendy between the two random variables - so that whether the two random variable vary together!\n",
    "\n",
    "it would be nice that we could tell what is a high enough number to indicate that clear depencency... But, as you saw the two plots for (x,y) and (x2,y2) they looked the same. You might expect that the \"measured value\" for how much they vary together would be the same. But no! Clearly the scale or something has effect on this... And indeed, if you check Wikipedia for example \n",
    "\n",
    "https://en.wikipedia.org/wiki/Covariance_and_correlation\n",
    "\n",
    "you can see that the formulas for the covariance and correlation are almost the same. It is only that in correlation the covariance values are divided by the standard deviations of x and y. This has the effect that the values for correlation are always between -1 and 1, including -1 and 1. Also the scaling we saw for (x,y) and (x2,y2) does not have effect anymore as we see in the next two examples\n"
   ]
  },
  {
   "cell_type": "code",
   "execution_count": 98,
   "id": "b464e1aa-d4b4-4586-aded-d0daff6dc490",
   "metadata": {},
   "outputs": [
    {
     "data": {
      "text/plain": [
       "array([[1.        , 0.97945704],\n",
       "       [0.97945704, 1.        ]])"
      ]
     },
     "execution_count": 98,
     "metadata": {},
     "output_type": "execute_result"
    }
   ],
   "source": [
    "np.corrcoef(x,y)"
   ]
  },
  {
   "cell_type": "code",
   "execution_count": 99,
   "id": "a77d0fa5-be1b-41d9-9479-de929839d163",
   "metadata": {},
   "outputs": [
    {
     "data": {
      "text/plain": [
       "array([[1.        , 0.97945704],\n",
       "       [0.97945704, 1.        ]])"
      ]
     },
     "execution_count": 99,
     "metadata": {},
     "output_type": "execute_result"
    }
   ],
   "source": [
    "np.corrcoef(x2,y2)"
   ]
  },
  {
   "cell_type": "markdown",
   "id": "bb55ffac-eab9-41b9-8f24-1c6c93a35120",
   "metadata": {},
   "source": [
    "So now we have a tool to calculate a value for telling us how much two random variables vary together.\n",
    "\n",
    "During the rest of the course we need only the correlation! We continue the discussion in a class of various aspects we still need to know about correlation!"
   ]
  },
  {
   "cell_type": "markdown",
   "id": "eafe7c23-7dbd-45f6-8a44-e68e2033b5d2",
   "metadata": {},
   "source": [
    "By the way, one handy tool for visualizing correlation is seaborn library's heatmap. However, it might be good to pay attention to the scale used there as shown below. But ok, we will use and discuss that plot more later on..."
   ]
  },
  {
   "cell_type": "code",
   "execution_count": 100,
   "id": "ed9c1729-3127-416c-a158-abe47cbc816f",
   "metadata": {},
   "outputs": [
    {
     "data": {
      "text/plain": [
       "<AxesSubplot: >"
      ]
     },
     "execution_count": 100,
     "metadata": {},
     "output_type": "execute_result"
    },
    {
     "data": {
      "image/png": "[encoded data removed]",
      "text/plain": [
       "<Figure size 640x480 with 2 Axes>"
      ]
     },
     "metadata": {},
     "output_type": "display_data"
    }
   ],
   "source": [
    "sns.heatmap(np.corrcoef(x,y))"
   ]
  },
  {
   "cell_type": "code",
   "execution_count": 101,
   "id": "066f8869-5fe2-44ab-a77f-6366bdb73060",
   "metadata": {},
   "outputs": [
    {
     "data": {
      "image/png": "[encoded data removed]",
      "text/plain": [
       "<Figure size 640x480 with 2 Axes>"
      ]
     },
     "metadata": {},
     "output_type": "display_data"
    }
   ],
   "source": [
    "ax = sns.heatmap(np.corrcoef(x,y),vmin=0, vmax=1)\n",
    "#ax.plot(1,1,'r*')"
   ]
  }
 ],
 "metadata": {
  "kernelspec": {
   "display_name": "Python 3.10.7 64-bit",
   "language": "python",
   "name": "python3"
  },
  "language_info": {
   "codemirror_mode": {
    "name": "ipython",
    "version": 3
   },
   "file_extension": ".py",
   "mimetype": "text/x-python",
   "name": "python",
   "nbconvert_exporter": "python",
   "pygments_lexer": "ipython3",
   "version": "3.10.7"
  },
  "vscode": {
   "interpreter": {
    "hash": "aee8b7b246df8f9039afb4144a1f6fd8d2ca17a180786b69acc140d282b71a49"
   }
  }
 },
 "nbformat": 4,
 "nbformat_minor": 5
}
