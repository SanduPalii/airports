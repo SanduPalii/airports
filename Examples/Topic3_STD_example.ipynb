{
 "cells": [
  {
   "cell_type": "markdown",
   "id": "a9a16ad8-a3b7-4b13-9d30-7f951e6c8092",
   "metadata": {},
   "source": [
    "# Studying how the standard deviation is calculated"
   ]
  },
  {
   "cell_type": "code",
   "execution_count": 1,
   "id": "b40e24b8-c835-40dd-8a2a-c6832afe2070",
   "metadata": {},
   "outputs": [],
   "source": [
    "import numpy as np"
   ]
  },
  {
   "cell_type": "markdown",
   "id": "78340f65-44f8-4136-9a63-a59e6a29c6f9",
   "metadata": {},
   "source": [
    "let's have some simple data to play with"
   ]
  },
  {
   "cell_type": "code",
   "execution_count": 2,
   "id": "7beeae07-3ae4-4427-95f0-1ac6b8f6ea26",
   "metadata": {},
   "outputs": [],
   "source": [
    "x=np.array([1,2,3,4,5,6,7])"
   ]
  },
  {
   "cell_type": "markdown",
   "id": "9e9080a5-1c2d-4ba9-8316-24d3a5bbca7c",
   "metadata": {},
   "source": [
    "Above, consider the values in the list as $x_1, x_2, \\dots , x_n$, where $n=7$."
   ]
  },
  {
   "cell_type": "code",
   "execution_count": 3,
   "id": "bf93b7e8-17b6-4086-a1bf-7ca75c6f2112",
   "metadata": {},
   "outputs": [
    {
     "data": {
      "text/plain": [
       "4.0"
      ]
     },
     "execution_count": 3,
     "metadata": {},
     "output_type": "execute_result"
    }
   ],
   "source": [
    "np.average(x)\n",
    "#we could have used also np.average(x)"
   ]
  },
  {
   "cell_type": "markdown",
   "id": "aebd7458-dd82-4fa7-b6cf-817e19a3cf9d",
   "metadata": {},
   "source": [
    "Now calculating the distance of each value from the average"
   ]
  },
  {
   "cell_type": "code",
   "execution_count": 4,
   "id": "56ac15c9-db7f-4759-959a-3a01c2a82bde",
   "metadata": {},
   "outputs": [],
   "source": [
    "distances_from_average = np.abs(x-np.average(x))"
   ]
  },
  {
   "cell_type": "markdown",
   "id": "4e08f146-0f8a-4b03-b7b8-bd646f6ce279",
   "metadata": {},
   "source": [
    "Checking how far the values are on average from the average"
   ]
  },
  {
   "cell_type": "code",
   "execution_count": 5,
   "id": "6231f51b-c71f-4573-8a54-c48ac0368b35",
   "metadata": {},
   "outputs": [
    {
     "data": {
      "text/plain": [
       "1.7142857142857142"
      ]
     },
     "execution_count": 5,
     "metadata": {},
     "output_type": "execute_result"
    }
   ],
   "source": [
    "sum(distances_from_average)/x.size"
   ]
  },
  {
   "cell_type": "markdown",
   "id": "26511e69-e66f-4415-81ed-f50abf4c2287",
   "metadata": {},
   "source": [
    "### Let's see what numpy gives us for the standard deviation"
   ]
  },
  {
   "cell_type": "code",
   "execution_count": 6,
   "id": "76888541-cc9f-4c5c-b8d0-4f26072a99c4",
   "metadata": {},
   "outputs": [
    {
     "data": {
      "text/plain": [
       "2.0"
      ]
     },
     "execution_count": 6,
     "metadata": {},
     "output_type": "execute_result"
    }
   ],
   "source": [
    "x.std()"
   ]
  },
  {
   "cell_type": "markdown",
   "id": "559cb40d-fd4d-43fb-b081-fdc0de3fd4cf",
   "metadata": {},
   "source": [
    "### WHAT???? Why are the values different!\n",
    "The exact formula for calculating the standard deviation for the values listed above does not exactly calculate the distance of each value from the average in the way you probably would have expected. You might have expected the distance from the average for each value $x_i$ to be calculated with the formula\n",
    "\n",
    "$$|x_i-average(x)|,$$\n",
    "\n",
    "where $i\\in\\{1,2,\\dots , 7\\}$. Instead, it is actually calculated with the formula\n",
    "\n",
    "$$(x_i-average(x))^2.$$\n",
    "\n",
    "Then the last twist! Instead of then dividing the sum of all distances by $n$ we take the square root of the sum instead. This is better in like with the fact that we have first raised all the values $x_i-average(x)$ to the second power. \n",
    "\n",
    "So, let's modify the formula above to meet our changes..."
   ]
  },
  {
   "cell_type": "code",
   "execution_count": 7,
   "id": "32772638-682d-4194-8b61-3e5d762e9d51",
   "metadata": {},
   "outputs": [
    {
     "data": {
      "text/plain": [
       "2.0"
      ]
     },
     "execution_count": 7,
     "metadata": {},
     "output_type": "execute_result"
    }
   ],
   "source": [
    "np.sqrt(sum((x-x.mean())**2)/(x.size))  # yep, I used the x.mean() now, don't let that bother you now"
   ]
  },
  {
   "cell_type": "markdown",
   "id": "c87e3b2b-cebf-48af-ac68-6d20830864df",
   "metadata": {},
   "source": [
    "With these changes we got the same as with Python's std() function. Great!\n",
    "\n",
    "Well, in general you do not have to worry how exactly the standard deviation is calculated. You just use what ever too to calculate the value for you and it is most of the time just okay to understand the standard deviation the way we have discussed before. So that the standard deviation tells how fart the data points are from their average on the average."
   ]
  }
 ],
 "metadata": {
  "kernelspec": {
   "display_name": "Python 3.10.7 64-bit",
   "language": "python",
   "name": "python3"
  },
  "language_info": {
   "codemirror_mode": {
    "name": "ipython",
    "version": 3
   },
   "file_extension": ".py",
   "mimetype": "text/x-python",
   "name": "python",
   "nbconvert_exporter": "python",
   "pygments_lexer": "ipython3",
   "version": "3.10.7"
  },
  "vscode": {
   "interpreter": {
    "hash": "aee8b7b246df8f9039afb4144a1f6fd8d2ca17a180786b69acc140d282b71a49"
   }
  }
 },
 "nbformat": 4,
 "nbformat_minor": 5
}
