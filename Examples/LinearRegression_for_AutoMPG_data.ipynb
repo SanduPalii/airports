{
 "cells": [
  {
   "cell_type": "code",
   "execution_count": 1,
   "metadata": {},
   "outputs": [],
   "source": [
    "import pandas as pd\n",
    "import matplotlib.pyplot as plt\n",
    "import seaborn as sns\n",
    "\n",
    "%matplotlib inline\n",
    "\n",
    "#plt.style.use('seaborn-whitegrid')"
   ]
  },
  {
   "cell_type": "code",
   "execution_count": 2,
   "metadata": {},
   "outputs": [],
   "source": [
    "df = pd.read_excel('autoMPG_data.xlsx')"
   ]
  },
  {
   "cell_type": "code",
   "execution_count": 3,
   "metadata": {},
   "outputs": [
    {
     "data": {
      "text/html": [
       "<div>\n",
       "<style scoped>\n",
       "    .dataframe tbody tr th:only-of-type {\n",
       "        vertical-align: middle;\n",
       "    }\n",
       "\n",
       "    .dataframe tbody tr th {\n",
       "        vertical-align: top;\n",
       "    }\n",
       "\n",
       "    .dataframe thead th {\n",
       "        text-align: right;\n",
       "    }\n",
       "</style>\n",
       "<table border=\"1\" class=\"dataframe\">\n",
       "  <thead>\n",
       "    <tr style=\"text-align: right;\">\n",
       "      <th></th>\n",
       "      <th>GallonsPer100Miles</th>\n",
       "      <th>GallonsPer100MilesTo1981</th>\n",
       "      <th>MPG</th>\n",
       "      <th>Cylinders</th>\n",
       "      <th>Displacement100ci</th>\n",
       "      <th>Horsepower100</th>\n",
       "      <th>Weight1000lb</th>\n",
       "      <th>Seconds0to60</th>\n",
       "      <th>Year</th>\n",
       "      <th>Year70To81</th>\n",
       "      <th>Origin</th>\n",
       "      <th>Origin.Eq.1</th>\n",
       "      <th>Origin.Eq.2</th>\n",
       "      <th>Origin.Eq.3</th>\n",
       "      <th>Name</th>\n",
       "    </tr>\n",
       "  </thead>\n",
       "  <tbody>\n",
       "    <tr>\n",
       "      <th>0</th>\n",
       "      <td>5.555556</td>\n",
       "      <td>5.555556</td>\n",
       "      <td>18.0</td>\n",
       "      <td>8</td>\n",
       "      <td>3.07</td>\n",
       "      <td>1.30</td>\n",
       "      <td>3.504</td>\n",
       "      <td>12.0</td>\n",
       "      <td>70</td>\n",
       "      <td>1</td>\n",
       "      <td>1</td>\n",
       "      <td>1</td>\n",
       "      <td>0</td>\n",
       "      <td>0</td>\n",
       "      <td>chevrolet chevelle malibu</td>\n",
       "    </tr>\n",
       "    <tr>\n",
       "      <th>1</th>\n",
       "      <td>6.666667</td>\n",
       "      <td>6.666667</td>\n",
       "      <td>15.0</td>\n",
       "      <td>8</td>\n",
       "      <td>3.50</td>\n",
       "      <td>1.65</td>\n",
       "      <td>3.693</td>\n",
       "      <td>11.5</td>\n",
       "      <td>70</td>\n",
       "      <td>1</td>\n",
       "      <td>1</td>\n",
       "      <td>1</td>\n",
       "      <td>0</td>\n",
       "      <td>0</td>\n",
       "      <td>buick skylark 320</td>\n",
       "    </tr>\n",
       "    <tr>\n",
       "      <th>2</th>\n",
       "      <td>5.555556</td>\n",
       "      <td>5.555556</td>\n",
       "      <td>18.0</td>\n",
       "      <td>8</td>\n",
       "      <td>3.18</td>\n",
       "      <td>1.50</td>\n",
       "      <td>3.436</td>\n",
       "      <td>11.0</td>\n",
       "      <td>70</td>\n",
       "      <td>1</td>\n",
       "      <td>1</td>\n",
       "      <td>1</td>\n",
       "      <td>0</td>\n",
       "      <td>0</td>\n",
       "      <td>plymouth satellite</td>\n",
       "    </tr>\n",
       "    <tr>\n",
       "      <th>3</th>\n",
       "      <td>6.250000</td>\n",
       "      <td>6.250000</td>\n",
       "      <td>16.0</td>\n",
       "      <td>8</td>\n",
       "      <td>3.04</td>\n",
       "      <td>1.50</td>\n",
       "      <td>3.433</td>\n",
       "      <td>12.0</td>\n",
       "      <td>70</td>\n",
       "      <td>1</td>\n",
       "      <td>1</td>\n",
       "      <td>1</td>\n",
       "      <td>0</td>\n",
       "      <td>0</td>\n",
       "      <td>amc rebel sst</td>\n",
       "    </tr>\n",
       "    <tr>\n",
       "      <th>4</th>\n",
       "      <td>5.882353</td>\n",
       "      <td>5.882353</td>\n",
       "      <td>17.0</td>\n",
       "      <td>8</td>\n",
       "      <td>3.02</td>\n",
       "      <td>1.40</td>\n",
       "      <td>3.449</td>\n",
       "      <td>10.5</td>\n",
       "      <td>70</td>\n",
       "      <td>1</td>\n",
       "      <td>1</td>\n",
       "      <td>1</td>\n",
       "      <td>0</td>\n",
       "      <td>0</td>\n",
       "      <td>ford torino</td>\n",
       "    </tr>\n",
       "  </tbody>\n",
       "</table>\n",
       "</div>"
      ],
      "text/plain": [
       "   GallonsPer100Miles  GallonsPer100MilesTo1981   MPG  Cylinders  \\\n",
       "0            5.555556                  5.555556  18.0          8   \n",
       "1            6.666667                  6.666667  15.0          8   \n",
       "2            5.555556                  5.555556  18.0          8   \n",
       "3            6.250000                  6.250000  16.0          8   \n",
       "4            5.882353                  5.882353  17.0          8   \n",
       "\n",
       "   Displacement100ci  Horsepower100  Weight1000lb  Seconds0to60  Year  \\\n",
       "0               3.07           1.30         3.504          12.0    70   \n",
       "1               3.50           1.65         3.693          11.5    70   \n",
       "2               3.18           1.50         3.436          11.0    70   \n",
       "3               3.04           1.50         3.433          12.0    70   \n",
       "4               3.02           1.40         3.449          10.5    70   \n",
       "\n",
       "   Year70To81  Origin  Origin.Eq.1  Origin.Eq.2  Origin.Eq.3  \\\n",
       "0           1       1            1            0            0   \n",
       "1           1       1            1            0            0   \n",
       "2           1       1            1            0            0   \n",
       "3           1       1            1            0            0   \n",
       "4           1       1            1            0            0   \n",
       "\n",
       "                        Name  \n",
       "0  chevrolet chevelle malibu  \n",
       "1          buick skylark 320  \n",
       "2         plymouth satellite  \n",
       "3              amc rebel sst  \n",
       "4                ford torino  "
      ]
     },
     "execution_count": 3,
     "metadata": {},
     "output_type": "execute_result"
    }
   ],
   "source": [
    "df.head()"
   ]
  },
  {
   "cell_type": "code",
   "execution_count": 4,
   "metadata": {},
   "outputs": [
    {
     "data": {
      "text/plain": [
       "1.613"
      ]
     },
     "execution_count": 4,
     "metadata": {},
     "output_type": "execute_result"
    }
   ],
   "source": [
    "df['Weight1000lb'].min()"
   ]
  },
  {
   "cell_type": "code",
   "execution_count": 5,
   "metadata": {},
   "outputs": [
    {
     "data": {
      "text/plain": [
       "5.14"
      ]
     },
     "execution_count": 5,
     "metadata": {},
     "output_type": "execute_result"
    }
   ],
   "source": [
    "df['Weight1000lb'].max()"
   ]
  },
  {
   "cell_type": "code",
   "execution_count": 6,
   "metadata": {},
   "outputs": [
    {
     "data": {
      "text/plain": [
       "<AxesSubplot:>"
      ]
     },
     "execution_count": 6,
     "metadata": {},
     "output_type": "execute_result"
    },
    {
     "data": {
      "image/png": "[encoded data removed]",
      "text/plain": [
       "<Figure size 432x288 with 1 Axes>"
      ]
     },
     "metadata": {
      "needs_background": "light"
     },
     "output_type": "display_data"
    }
   ],
   "source": [
    "df['Weight1000lb'].hist()"
   ]
  },
  {
   "cell_type": "code",
   "execution_count": 7,
   "metadata": {},
   "outputs": [
    {
     "data": {
      "text/plain": [
       "<AxesSubplot:>"
      ]
     },
     "execution_count": 7,
     "metadata": {},
     "output_type": "execute_result"
    },
    {
     "data": {
      "image/png": "[encoded data removed]",
      "text/plain": [
       "<Figure size 432x288 with 1 Axes>"
      ]
     },
     "metadata": {
      "needs_background": "light"
     },
     "output_type": "display_data"
    }
   ],
   "source": [
    "df['MPG'].hist()"
   ]
  },
  {
   "cell_type": "code",
   "execution_count": null,
   "metadata": {},
   "outputs": [
    {
     "data": {
      "text/plain": [
       "<seaborn.axisgrid.PairGrid at 0x1c5a577be20>"
      ]
     },
     "execution_count": 8,
     "metadata": {},
     "output_type": "execute_result"
    }
   ],
   "source": [
    "# let's see the scatter plots and have the regression line fitted also for illustrations\n",
    "sns.pairplot(df, kind = 'reg')"
   ]
  },
  {
   "cell_type": "code",
   "execution_count": null,
   "metadata": {},
   "outputs": [],
   "source": [
    "df.corr()"
   ]
  },
  {
   "cell_type": "code",
   "execution_count": null,
   "metadata": {},
   "outputs": [],
   "source": [
    "# heatmap korrelaatiokertoimista\n",
    "#sns.heatmap(df.corr(), annot = True)\n",
    "sns.heatmap(df.corr())"
   ]
  },
  {
   "cell_type": "code",
   "execution_count": null,
   "metadata": {},
   "outputs": [],
   "source": [
    "# Let's check MPG and Weight1000lb as a jointplot\n",
    "ax1 = sns.jointplot(data = df, x = 'MPG', y = 'Weight1000lb')\n",
    "#ax1 = sns.jointplot(data = df, x = 'MPG', y = 'Horsepower100')"
   ]
  },
  {
   "cell_type": "code",
   "execution_count": null,
   "metadata": {},
   "outputs": [],
   "source": [
    "# On the other hand, let's see what happens if we use X='GallonsPer100Miles' instead\n",
    "ax1 = sns.jointplot(data = df, x = 'GallonsPer100Miles', y = 'Weight1000lb')\n",
    "#ax1 = sns.jointplot(data = df, x = 'GallonsPer100Miles', y = 'Horsepower100')\n",
    "#ax1 = sns.jointplot(data = df, x = 'Weight1000lb', y = 'GallonsPer100Miles', kind='reg')"
   ]
  },
  {
   "cell_type": "code",
   "execution_count": null,
   "metadata": {},
   "outputs": [],
   "source": [
    "# Let's prepare the data for the regression model\n",
    "X = df['Weight1000lb'].to_frame()  # to_frame() makes it dataframe as now it would only be a Series!\n",
    "\n",
    "# This is the independent variable -> you could have taken more variables into your model as there can be more than one dependent variables"
   ]
  },
  {
   "cell_type": "code",
   "execution_count": null,
   "metadata": {},
   "outputs": [],
   "source": [
    "y = df['GallonsPer100Miles']  # This is your dependent variable - or the target variable that you want to predict "
   ]
  },
  {
   "cell_type": "code",
   "execution_count": null,
   "metadata": {},
   "outputs": [],
   "source": [
    "# Now that we have the data, let's start training the model"
   ]
  },
  {
   "cell_type": "code",
   "execution_count": null,
   "metadata": {},
   "outputs": [],
   "source": [
    "from sklearn.linear_model import LinearRegression\n",
    "\n",
    "fuel_model = LinearRegression().fit(X,y)"
   ]
  },
  {
   "cell_type": "code",
   "execution_count": null,
   "metadata": {},
   "outputs": [],
   "source": [
    "fuel_model.coef_"
   ]
  },
  {
   "cell_type": "code",
   "execution_count": null,
   "metadata": {},
   "outputs": [],
   "source": [
    "fuel_model.intercept_"
   ]
  },
  {
   "cell_type": "code",
   "execution_count": null,
   "metadata": {},
   "outputs": [],
   "source": [
    "# Let's just predict first that how many GallonsPer100Miles would it take based on the model if the car would weight 1000lb\n",
    "fuel_model.predict(pd.DataFrame([3]))   # This value is on the interpolation range"
   ]
  },
  {
   "cell_type": "code",
   "execution_count": null,
   "metadata": {},
   "outputs": [],
   "source": [
    "fuel_model.predict(pd.DataFrame([1]))   # This value is on the extrapolation range"
   ]
  },
  {
   "cell_type": "code",
   "execution_count": null,
   "metadata": {},
   "outputs": [],
   "source": [
    "#Let's plot the model error terms as a scatterplot\n",
    "# X = Weight1000lb\n",
    "# y = GallonsPer100Miles\n",
    "plt.scatter(fuel_model.predict(X), fuel_model.predict(X)-y)\n",
    "\n",
    "plt.hlines(y=0,xmin=2,xmax=9)\n"
   ]
  },
  {
   "cell_type": "code",
   "execution_count": null,
   "metadata": {},
   "outputs": [],
   "source": [
    "#Coefficient of determination\n",
    "fuel_model.score(X,y)"
   ]
  },
  {
   "cell_type": "code",
   "execution_count": null,
   "metadata": {},
   "outputs": [],
   "source": [
    "# Hence, the model explains 78.3% of fuel consumtion"
   ]
  },
  {
   "cell_type": "code",
   "execution_count": null,
   "metadata": {},
   "outputs": [],
   "source": []
  }
 ],
 "metadata": {
  "kernelspec": {
   "display_name": "Python 3",
   "language": "python",
   "name": "python3"
  },
  "language_info": {
   "codemirror_mode": {
    "name": "ipython",
    "version": 3
   },
   "file_extension": ".py",
   "mimetype": "text/x-python",
   "name": "python",
   "nbconvert_exporter": "python",
   "pygments_lexer": "ipython3",
   "version": "3.8.5"
  }
 },
 "nbformat": 4,
 "nbformat_minor": 4
}
