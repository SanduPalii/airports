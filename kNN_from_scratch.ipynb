{
 "cells": [
  {
   "cell_type": "code",
   "execution_count": null,
   "id": "00ab3a95-bd29-4b93-86ca-6f3d169b1cda",
   "metadata": {},
   "outputs": [],
   "source": [
    "# This file is basically based on the link below, although I have taken many part out from that for illustration purposes!\n",
    "# https://deepnote.com/@ndungu/Implementing-KNN-Algorithm-on-the-Iris-Dataset-58Fkk1AMQki-VJOJ3mA_Fg"
   ]
  },
  {
   "cell_type": "code",
   "execution_count": null,
   "id": "1a411705-30b5-4bfc-be6a-9d67bc1e6f18",
   "metadata": {},
   "outputs": [],
   "source": [
    "import matplotlib.pyplot as plt\n",
    "import numpy as np\n",
    "import pandas as pd\n",
    "import seaborn as sns\n",
    "\n",
    "from sklearn import datasets\n",
    "from sklearn.model_selection import train_test_split , KFold\n",
    "from sklearn.preprocessing import Normalizer\n",
    "from sklearn.metrics import accuracy_score\n",
    "from sklearn.neighbors import KNeighborsClassifier\n",
    "\n",
    "from collections import Counter"
   ]
  },
  {
   "cell_type": "code",
   "execution_count": null,
   "id": "105b5dbc-32c3-4015-b357-834d42ba93ce",
   "metadata": {},
   "outputs": [],
   "source": [
    "\n",
    "iris = datasets.load_iris()\n",
    "iris_df = pd.DataFrame(data= np.c_[iris['data'], iris['target']],\n",
    "                      columns= iris['feature_names'] + ['target'])"
   ]
  },
  {
   "cell_type": "code",
   "execution_count": null,
   "id": "a288d06b-1e1b-4859-8d40-85d746d3bc14",
   "metadata": {},
   "outputs": [],
   "source": [
    "iris_df"
   ]
  },
  {
   "cell_type": "code",
   "execution_count": null,
   "id": "506180a9-f967-4e14-b411-9a14af0e5d72",
   "metadata": {},
   "outputs": [],
   "source": [
    "x= iris_df.iloc[:, :-1]\n",
    "y= iris_df.iloc[:, -1]"
   ]
  },
  {
   "cell_type": "code",
   "execution_count": null,
   "id": "e802a211-fa88-4ad0-8faf-22855883664f",
   "metadata": {},
   "outputs": [],
   "source": [
    "x_train, x_test, y_train, y_test= train_test_split(x, y, test_size = 0.2, shuffle = True, random_state = 0)\n",
    "x_train= np.asarray(x_train)\n",
    "y_train= np.asarray(y_train)\n",
    "\n",
    "x_test= np.asarray(x_test)\n",
    "y_test= np.asarray(y_test)"
   ]
  },
  {
   "cell_type": "code",
   "execution_count": null,
   "id": "7b57fb4a-3f98-4cc3-9101-dad2984fe5bc",
   "metadata": {},
   "outputs": [],
   "source": [
    "def distance_ecu(x_train, x_test_point):\n",
    "  \"\"\"\n",
    "  Input:\n",
    "    - x_train: corresponding to the training data\n",
    "    - x_test_point: corresponding to the test point\n",
    "\n",
    "  Output:\n",
    "    -distances: The distances between the test point and each point in the training data.\n",
    "\n",
    "  \"\"\"\n",
    "  distances= []  ## create empty list called distances\n",
    "  for row in range(len(x_train)): ## Loop over the rows of x_train\n",
    "      current_train_point= x_train[row] #Get them point by point\n",
    "      current_distance= 0 ## initialize the distance by zero\n",
    "\n",
    "      for col in range(len(current_train_point)): ## Loop over the columns of the row\n",
    "          \n",
    "          current_distance += (current_train_point[col] - x_test_point[col]) **2\n",
    "          ## Or current_distance = current_distance + (x_train[i] - x_test_point[i])**2\n",
    "      current_distance= np.sqrt(current_distance)\n",
    "\n",
    "      distances.append(current_distance) ## Append the distances\n",
    "\n",
    "  # Store distances in a dataframe\n",
    "  distances= pd.DataFrame(data=distances,columns=['dist'])\n",
    "  return distances"
   ]
  },
  {
   "cell_type": "code",
   "execution_count": null,
   "id": "dc2784ae-b692-48a3-ae81-c6a0518bdca8",
   "metadata": {},
   "outputs": [],
   "source": [
    "def nearest_neighbors(distance_point, K):\n",
    "    \"\"\"\n",
    "    Input:\n",
    "        -distance_point: the distances between the test point and each point in the training data.\n",
    "        -K             : the number of neighbors\n",
    "\n",
    "    Output:\n",
    "        -df_nearest: the nearest K neighbors between the test point and the training data.\n",
    "\n",
    "    \"\"\"\n",
    "\n",
    "    # Sort values using the sort_values function\n",
    "    df_nearest= distance_point.sort_values(by=['dist'], axis=0)\n",
    "\n",
    "    ## Take only the first K neighbors\n",
    "    df_nearest= df_nearest[:K]\n",
    "    return df_nearest"
   ]
  },
  {
   "cell_type": "code",
   "execution_count": null,
   "id": "bdf2ec11-4190-4819-be0e-31fa93b37408",
   "metadata": {},
   "outputs": [],
   "source": [
    "def voting(df_nearest, y_train):\n",
    "    \"\"\"\n",
    "    Input:\n",
    "        -df_nearest: dataframe contains the nearest K neighbors between the full training dataset and the test point.\n",
    "        -y_train: the labels of the training dataset.\n",
    "\n",
    "    Output:\n",
    "        -y_pred: the prediction based on Majority Voting\n",
    "\n",
    "    \"\"\"\n",
    "\n",
    "    ## Use the Counter Object to get the labels with K nearest neighbors.\n",
    "    counter_vote= Counter(y_train[df_nearest.index])\n",
    "\n",
    "    y_pred= counter_vote.most_common()[0][0]   # Majority Voting\n",
    "\n",
    "    return y_pred"
   ]
  },
  {
   "cell_type": "code",
   "execution_count": null,
   "id": "aca0a95d-bddb-441b-8a14-8fd946078c26",
   "metadata": {},
   "outputs": [],
   "source": [
    "def KNN_from_scratch(x_train, y_train, x_test, K):\n",
    "\n",
    "    \"\"\"\n",
    "    Input:\n",
    "    -x_train: the full training dataset\n",
    "    -y_train: the labels of the training dataset\n",
    "    -x_test: the full test dataset\n",
    "    -K: the number of neighbors\n",
    "\n",
    "    Output:\n",
    "    -y_pred: the prediction for the whole test set based on Majority Voting.\n",
    "\n",
    "    \"\"\"\n",
    "\n",
    "    y_pred=[]\n",
    "\n",
    "    ## Loop over all the test set and perform the three steps\n",
    "    for x_test_point in x_test:\n",
    "      distance_point  = distance_ecu(x_train, x_test_point)  ## Step 1\n",
    "      df_nearest_point= nearest_neighbors(distance_point, K)  ## Step 2\n",
    "      y_pred_point    = voting(df_nearest_point, y_train) ## Step 3\n",
    "      y_pred.append(y_pred_point)\n",
    "\n",
    "    return y_pred"
   ]
  },
  {
   "cell_type": "code",
   "execution_count": null,
   "id": "6e474450-7978-4e86-b6a9-4245090595c3",
   "metadata": {},
   "outputs": [],
   "source": [
    "K=3\n",
    "y_pred_scratch= KNN_from_scratch(x_train, y_train, x_test, K)\n",
    "print(y_pred_scratch)"
   ]
  },
  {
   "cell_type": "code",
   "execution_count": null,
   "id": "bbabe7ad-b505-4a9c-9ab4-fe073db9624b",
   "metadata": {},
   "outputs": [],
   "source": [
    "accuracy_score(y_test, y_pred_scratch)"
   ]
  },
  {
   "cell_type": "code",
   "execution_count": null,
   "id": "2a1cd3a0-f13a-4faa-968c-f79ce628a958",
   "metadata": {},
   "outputs": [],
   "source": [
    "y_test"
   ]
  },
  {
   "cell_type": "code",
   "execution_count": null,
   "id": "2f2d046a-a8e7-4431-a0f6-54ee78ce693a",
   "metadata": {},
   "outputs": [],
   "source": []
  }
 ],
 "metadata": {
  "kernelspec": {
   "display_name": "Python 3.10.7 64-bit",
   "language": "python",
   "name": "python3"
  },
  "language_info": {
   "codemirror_mode": {
    "name": "ipython",
    "version": 3
   },
   "file_extension": ".py",
   "mimetype": "text/x-python",
   "name": "python",
   "nbconvert_exporter": "python",
   "pygments_lexer": "ipython3",
   "version": "3.10.7"
  },
  "vscode": {
   "interpreter": {
    "hash": "aee8b7b246df8f9039afb4144a1f6fd8d2ca17a180786b69acc140d282b71a49"
   }
  }
 },
 "nbformat": 4,
 "nbformat_minor": 5
}
