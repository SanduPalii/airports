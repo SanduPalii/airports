{
 "cells": [
  {
   "cell_type": "code",
   "execution_count": 1,
   "id": "714d868d",
   "metadata": {},
   "outputs": [],
   "source": [
    "from sklearn import datasets\n",
    "import matplotlib.pyplot as plt\n",
    "import numpy as np\n",
    "import pandas as pd\n",
    "from sklearn.cluster import KMeans"
   ]
  },
  {
   "cell_type": "code",
   "execution_count": 2,
   "id": "cbfbb39b",
   "metadata": {},
   "outputs": [],
   "source": [
    "crypto=pd.read_csv('dataset.csv')\n"
   ]
  },
  {
   "cell_type": "code",
   "execution_count": 9,
   "id": "623af12a",
   "metadata": {},
   "outputs": [
    {
     "data": {
      "text/plain": [
       "(72946, 10)"
      ]
     },
     "execution_count": 9,
     "metadata": {},
     "output_type": "execute_result"
    }
   ],
   "source": [
    "crypto.shape"
   ]
  },
  {
   "cell_type": "code",
   "execution_count": 10,
   "id": "d2889f47",
   "metadata": {},
   "outputs": [
    {
     "data": {
      "text/html": [
       "<div>\n",
       "<style scoped>\n",
       "    .dataframe tbody tr th:only-of-type {\n",
       "        vertical-align: middle;\n",
       "    }\n",
       "\n",
       "    .dataframe tbody tr th {\n",
       "        vertical-align: top;\n",
       "    }\n",
       "\n",
       "    .dataframe thead th {\n",
       "        text-align: right;\n",
       "    }\n",
       "</style>\n",
       "<table border=\"1\" class=\"dataframe\">\n",
       "  <thead>\n",
       "    <tr style=\"text-align: right;\">\n",
       "      <th></th>\n",
       "      <th>Unnamed: 0</th>\n",
       "      <th>open</th>\n",
       "      <th>high</th>\n",
       "      <th>low</th>\n",
       "      <th>close</th>\n",
       "      <th>volume</th>\n",
       "      <th>marketCap</th>\n",
       "      <th>timestamp</th>\n",
       "      <th>crypto_name</th>\n",
       "      <th>date</th>\n",
       "    </tr>\n",
       "  </thead>\n",
       "  <tbody>\n",
       "    <tr>\n",
       "      <th>0</th>\n",
       "      <td>0</td>\n",
       "      <td>112.900002</td>\n",
       "      <td>118.800003</td>\n",
       "      <td>107.142998</td>\n",
       "      <td>115.910004</td>\n",
       "      <td>0.0</td>\n",
       "      <td>1.288693e+09</td>\n",
       "      <td>2013-05-05T23:59:59.999Z</td>\n",
       "      <td>Bitcoin</td>\n",
       "      <td>2013-05-05</td>\n",
       "    </tr>\n",
       "    <tr>\n",
       "      <th>1</th>\n",
       "      <td>1</td>\n",
       "      <td>3.493130</td>\n",
       "      <td>3.692460</td>\n",
       "      <td>3.346060</td>\n",
       "      <td>3.590890</td>\n",
       "      <td>0.0</td>\n",
       "      <td>6.229819e+07</td>\n",
       "      <td>2013-05-05T23:59:59.999Z</td>\n",
       "      <td>Litecoin</td>\n",
       "      <td>2013-05-05</td>\n",
       "    </tr>\n",
       "    <tr>\n",
       "      <th>2</th>\n",
       "      <td>2</td>\n",
       "      <td>115.980003</td>\n",
       "      <td>124.663002</td>\n",
       "      <td>106.639999</td>\n",
       "      <td>112.300003</td>\n",
       "      <td>0.0</td>\n",
       "      <td>1.249023e+09</td>\n",
       "      <td>2013-05-06T23:59:59.999Z</td>\n",
       "      <td>Bitcoin</td>\n",
       "      <td>2013-05-06</td>\n",
       "    </tr>\n",
       "    <tr>\n",
       "      <th>3</th>\n",
       "      <td>3</td>\n",
       "      <td>3.594220</td>\n",
       "      <td>3.781020</td>\n",
       "      <td>3.116020</td>\n",
       "      <td>3.371250</td>\n",
       "      <td>0.0</td>\n",
       "      <td>5.859436e+07</td>\n",
       "      <td>2013-05-06T23:59:59.999Z</td>\n",
       "      <td>Litecoin</td>\n",
       "      <td>2013-05-06</td>\n",
       "    </tr>\n",
       "    <tr>\n",
       "      <th>4</th>\n",
       "      <td>4</td>\n",
       "      <td>112.250000</td>\n",
       "      <td>113.444000</td>\n",
       "      <td>97.699997</td>\n",
       "      <td>111.500000</td>\n",
       "      <td>0.0</td>\n",
       "      <td>1.240594e+09</td>\n",
       "      <td>2013-05-07T23:59:59.999Z</td>\n",
       "      <td>Bitcoin</td>\n",
       "      <td>2013-05-07</td>\n",
       "    </tr>\n",
       "  </tbody>\n",
       "</table>\n",
       "</div>"
      ],
      "text/plain": [
       "   Unnamed: 0        open        high         low       close  volume  \\\n",
       "0           0  112.900002  118.800003  107.142998  115.910004     0.0   \n",
       "1           1    3.493130    3.692460    3.346060    3.590890     0.0   \n",
       "2           2  115.980003  124.663002  106.639999  112.300003     0.0   \n",
       "3           3    3.594220    3.781020    3.116020    3.371250     0.0   \n",
       "4           4  112.250000  113.444000   97.699997  111.500000     0.0   \n",
       "\n",
       "      marketCap                 timestamp crypto_name        date  \n",
       "0  1.288693e+09  2013-05-05T23:59:59.999Z     Bitcoin  2013-05-05  \n",
       "1  6.229819e+07  2013-05-05T23:59:59.999Z    Litecoin  2013-05-05  \n",
       "2  1.249023e+09  2013-05-06T23:59:59.999Z     Bitcoin  2013-05-06  \n",
       "3  5.859436e+07  2013-05-06T23:59:59.999Z    Litecoin  2013-05-06  \n",
       "4  1.240594e+09  2013-05-07T23:59:59.999Z     Bitcoin  2013-05-07  "
      ]
     },
     "execution_count": 10,
     "metadata": {},
     "output_type": "execute_result"
    }
   ],
   "source": [
    "crypto.head()"
   ]
  },
  {
   "cell_type": "code",
   "execution_count": 22,
   "id": "cfa4e4a4",
   "metadata": {},
   "outputs": [
    {
     "ename": "TypeError",
     "evalue": "'Index' object is not callable",
     "output_type": "error",
     "traceback": [
      "\u001b[0;31m---------------------------------------------------------------------------\u001b[0m",
      "\u001b[0;31mTypeError\u001b[0m                                 Traceback (most recent call last)",
      "Cell \u001b[0;32mIn [22], line 2\u001b[0m\n\u001b[1;32m      1\u001b[0m litecoin \u001b[39m=\u001b[39m \u001b[39m'\u001b[39m\u001b[39mLitecoin\u001b[39m\u001b[39m'\u001b[39m\n\u001b[0;32m----> 2\u001b[0m crypto\u001b[39m.\u001b[39mdrop(crypto\u001b[39m.\u001b[39mcolumns(litecoin, axis\u001b[39m=\u001b[39m\u001b[39m1\u001b[39m))\n",
      "\u001b[0;31mTypeError\u001b[0m: 'Index' object is not callable"
     ]
    }
   ],
   "source": [
    "litecoin = 'Litecoin'\n",
    "crypto.drop(crypto.columns(litecoin, axis=1))"
   ]
  },
  {
   "cell_type": "code",
   "execution_count": 3,
   "id": "7f3396cc",
   "metadata": {},
   "outputs": [
    {
     "data": {
      "text/plain": [
       "Index(['Unnamed: 0', 'open', 'high', 'low', 'close', 'volume', 'marketCap',\n",
       "       'timestamp', 'crypto_name', 'date'],\n",
       "      dtype='object')"
      ]
     },
     "execution_count": 3,
     "metadata": {},
     "output_type": "execute_result"
    }
   ],
   "source": [
    "crypto.columns"
   ]
  },
  {
   "cell_type": "code",
   "execution_count": 4,
   "id": "eefa9e5b",
   "metadata": {},
   "outputs": [
    {
     "data": {
      "text/html": [
       "<div>\n",
       "<style scoped>\n",
       "    .dataframe tbody tr th:only-of-type {\n",
       "        vertical-align: middle;\n",
       "    }\n",
       "\n",
       "    .dataframe tbody tr th {\n",
       "        vertical-align: top;\n",
       "    }\n",
       "\n",
       "    .dataframe thead th {\n",
       "        text-align: right;\n",
       "    }\n",
       "</style>\n",
       "<table border=\"1\" class=\"dataframe\">\n",
       "  <thead>\n",
       "    <tr style=\"text-align: right;\">\n",
       "      <th></th>\n",
       "      <th>Unnamed: 0</th>\n",
       "      <th>open</th>\n",
       "      <th>high</th>\n",
       "      <th>low</th>\n",
       "      <th>close</th>\n",
       "      <th>volume</th>\n",
       "      <th>marketCap</th>\n",
       "    </tr>\n",
       "  </thead>\n",
       "  <tbody>\n",
       "    <tr>\n",
       "      <th>count</th>\n",
       "      <td>72946.000000</td>\n",
       "      <td>72946.000000</td>\n",
       "      <td>7.294600e+04</td>\n",
       "      <td>72946.000000</td>\n",
       "      <td>7.294600e+04</td>\n",
       "      <td>7.294600e+04</td>\n",
       "      <td>7.294600e+04</td>\n",
       "    </tr>\n",
       "    <tr>\n",
       "      <th>mean</th>\n",
       "      <td>36472.500000</td>\n",
       "      <td>870.194495</td>\n",
       "      <td>8.964124e+02</td>\n",
       "      <td>844.060640</td>\n",
       "      <td>8.712949e+02</td>\n",
       "      <td>2.207607e+09</td>\n",
       "      <td>1.474922e+10</td>\n",
       "    </tr>\n",
       "    <tr>\n",
       "      <th>std</th>\n",
       "      <td>21057.840705</td>\n",
       "      <td>5231.654470</td>\n",
       "      <td>5.398613e+03</td>\n",
       "      <td>5079.389387</td>\n",
       "      <td>5.235508e+03</td>\n",
       "      <td>9.617885e+09</td>\n",
       "      <td>7.501159e+10</td>\n",
       "    </tr>\n",
       "    <tr>\n",
       "      <th>min</th>\n",
       "      <td>0.000000</td>\n",
       "      <td>0.000000</td>\n",
       "      <td>1.022100e-10</td>\n",
       "      <td>0.000000</td>\n",
       "      <td>8.292000e-11</td>\n",
       "      <td>0.000000e+00</td>\n",
       "      <td>0.000000e+00</td>\n",
       "    </tr>\n",
       "    <tr>\n",
       "      <th>25%</th>\n",
       "      <td>18236.250000</td>\n",
       "      <td>0.167916</td>\n",
       "      <td>1.767999e-01</td>\n",
       "      <td>0.158630</td>\n",
       "      <td>1.682982e-01</td>\n",
       "      <td>8.320618e+06</td>\n",
       "      <td>1.860432e+08</td>\n",
       "    </tr>\n",
       "    <tr>\n",
       "      <th>50%</th>\n",
       "      <td>36472.500000</td>\n",
       "      <td>1.630666</td>\n",
       "      <td>1.717542e+00</td>\n",
       "      <td>1.541486</td>\n",
       "      <td>1.640219e+00</td>\n",
       "      <td>1.098756e+08</td>\n",
       "      <td>1.268539e+09</td>\n",
       "    </tr>\n",
       "    <tr>\n",
       "      <th>75%</th>\n",
       "      <td>54708.750000</td>\n",
       "      <td>26.070557</td>\n",
       "      <td>2.756868e+01</td>\n",
       "      <td>24.791776</td>\n",
       "      <td>2.625195e+01</td>\n",
       "      <td>6.691398e+08</td>\n",
       "      <td>5.118618e+09</td>\n",
       "    </tr>\n",
       "    <tr>\n",
       "      <th>max</th>\n",
       "      <td>72945.000000</td>\n",
       "      <td>67549.735581</td>\n",
       "      <td>1.621883e+05</td>\n",
       "      <td>66458.723733</td>\n",
       "      <td>6.756683e+04</td>\n",
       "      <td>3.509679e+11</td>\n",
       "      <td>1.274831e+12</td>\n",
       "    </tr>\n",
       "  </tbody>\n",
       "</table>\n",
       "</div>"
      ],
      "text/plain": [
       "         Unnamed: 0          open          high           low         close  \\\n",
       "count  72946.000000  72946.000000  7.294600e+04  72946.000000  7.294600e+04   \n",
       "mean   36472.500000    870.194495  8.964124e+02    844.060640  8.712949e+02   \n",
       "std    21057.840705   5231.654470  5.398613e+03   5079.389387  5.235508e+03   \n",
       "min        0.000000      0.000000  1.022100e-10      0.000000  8.292000e-11   \n",
       "25%    18236.250000      0.167916  1.767999e-01      0.158630  1.682982e-01   \n",
       "50%    36472.500000      1.630666  1.717542e+00      1.541486  1.640219e+00   \n",
       "75%    54708.750000     26.070557  2.756868e+01     24.791776  2.625195e+01   \n",
       "max    72945.000000  67549.735581  1.621883e+05  66458.723733  6.756683e+04   \n",
       "\n",
       "             volume     marketCap  \n",
       "count  7.294600e+04  7.294600e+04  \n",
       "mean   2.207607e+09  1.474922e+10  \n",
       "std    9.617885e+09  7.501159e+10  \n",
       "min    0.000000e+00  0.000000e+00  \n",
       "25%    8.320618e+06  1.860432e+08  \n",
       "50%    1.098756e+08  1.268539e+09  \n",
       "75%    6.691398e+08  5.118618e+09  \n",
       "max    3.509679e+11  1.274831e+12  "
      ]
     },
     "execution_count": 4,
     "metadata": {},
     "output_type": "execute_result"
    }
   ],
   "source": [
    "crypto.describe()"
   ]
  },
  {
   "cell_type": "code",
   "execution_count": 5,
   "id": "022904b0",
   "metadata": {},
   "outputs": [],
   "source": [
    "# pd.DataFrame(airports[' \\\"longitude\\\"', ' \\\"latitude\\\"'], axis ='columns')\n",
    "# import math\n",
    "# x = crypto['open']\n",
    "# for i in x:\n",
    "#     math.floor(i)\n",
    "\n",
    "# x.describe()\n",
    "x = crypto['open']\n",
    "y = crypto['close']"
   ]
  },
  {
   "cell_type": "code",
   "execution_count": 6,
   "id": "ad2621eb",
   "metadata": {},
   "outputs": [
    {
     "data": {
      "text/plain": [
       "0    112.900002\n",
       "1      3.493130\n",
       "2    115.980003\n",
       "3      3.594220\n",
       "4    112.250000\n",
       "Name: open, dtype: float64"
      ]
     },
     "execution_count": 6,
     "metadata": {},
     "output_type": "execute_result"
    }
   ],
   "source": [
    "x.head()"
   ]
  },
  {
   "cell_type": "code",
   "execution_count": 7,
   "id": "033e26fe",
   "metadata": {},
   "outputs": [
    {
     "data": {
      "text/plain": [
       "0    115.910004\n",
       "1      3.590890\n",
       "2    112.300003\n",
       "3      3.371250\n",
       "4    111.500000\n",
       "Name: close, dtype: float64"
      ]
     },
     "execution_count": 7,
     "metadata": {},
     "output_type": "execute_result"
    }
   ],
   "source": [
    "y.head()"
   ]
  },
  {
   "cell_type": "code",
   "execution_count": 8,
   "id": "03554946",
   "metadata": {},
   "outputs": [
    {
     "ename": "NameError",
     "evalue": "name 'train_test_split' is not defined",
     "output_type": "error",
     "traceback": [
      "\u001b[0;31m---------------------------------------------------------------------------\u001b[0m",
      "\u001b[0;31mNameError\u001b[0m                                 Traceback (most recent call last)",
      "Cell \u001b[0;32mIn [8], line 4\u001b[0m\n\u001b[1;32m      1\u001b[0m \u001b[39m# Split the dataset\u001b[39;00m\n\u001b[1;32m      2\u001b[0m \u001b[39m# x = airports.iloc[:, 0:13]\u001b[39;00m\n\u001b[1;32m      3\u001b[0m \u001b[39m# y = airports.iloc[:, 13]\u001b[39;00m\n\u001b[0;32m----> 4\u001b[0m x_train, x_test, y_train, y_test\u001b[39m=\u001b[39m train_test_split(x, y, test_size\u001b[39m=\u001b[39m \u001b[39m0.2\u001b[39m, random_state\u001b[39m=\u001b[39m\u001b[39m0\u001b[39m)\n",
      "\u001b[0;31mNameError\u001b[0m: name 'train_test_split' is not defined"
     ]
    }
   ],
   "source": [
    "# Split the dataset\n",
    "# x = airports.iloc[:, 0:13]\n",
    "# y = airports.iloc[:, 13]\n",
    "x_train, x_test, y_train, y_test= train_test_split(x, y, test_size= 0.2, random_state=0)  "
   ]
  },
  {
   "cell_type": "code",
   "execution_count": null,
   "id": "63c94da6",
   "metadata": {},
   "outputs": [
    {
     "name": "stdout",
     "output_type": "stream",
     "text": [
      "[[-0.14475338]\n",
      " [-0.16566601]\n",
      " [-0.14416465]\n",
      " ...\n",
      " [-0.16538745]\n",
      " [-0.16633366]\n",
      " [-0.16624473]]\n",
      "[[-0.14475338]\n",
      " [-0.16566601]\n",
      " [-0.14416465]\n",
      " ...\n",
      " [-0.16538745]\n",
      " [-0.16633366]\n",
      " [-0.16624473]]\n"
     ]
    }
   ],
   "source": [
    "# Feature scaling\n",
    "sc_x = StandardScaler()\n",
    "x_train = sc_x.fit_transform(x.values.reshape(-1,1))\n",
    "x_test = sc_x.transform(x.values.reshape(-1,1))\n",
    "print(x_train)\n",
    "print(x_test)"
   ]
  },
  {
   "cell_type": "code",
   "execution_count": null,
   "id": "a90be2bd",
   "metadata": {},
   "outputs": [
    {
     "data": {
      "text/plain": [
       "array([0, 0, 0, ..., 0, 0, 0], dtype=int32)"
      ]
     },
     "execution_count": 125,
     "metadata": {},
     "output_type": "execute_result"
    }
   ],
   "source": [
    "km = KMeans(n_clusters=3)\n",
    "yp = km.fit_predict(x_train)\n",
    "yp"
   ]
  },
  {
   "cell_type": "code",
   "execution_count": null,
   "id": "6ca5c73f",
   "metadata": {},
   "outputs": [],
   "source": [
    "# Normalizing dataset\n",
    "# scaler= Normalizer().fit(x_train) # the scaler is fitted to the training set\n",
    "# scaler.head()"
   ]
  },
  {
   "cell_type": "code",
   "execution_count": null,
   "id": "6b3e0837",
   "metadata": {},
   "outputs": [],
   "source": [
    "# normalized_x_train= scaler.transform(x_train) # the scaler is applied to the training set\n",
    "# normalized_x_test= scaler.transform(x_test) # the scaler is applied to the test set"
   ]
  },
  {
   "cell_type": "code",
   "execution_count": null,
   "id": "65d93210",
   "metadata": {},
   "outputs": [
    {
     "name": "stdout",
     "output_type": "stream",
     "text": [
      "x train before normalizing\n",
      "[[-0.14475338]\n",
      " [-0.16566601]\n",
      " [-0.14416465]\n",
      " [-0.16564668]\n",
      " [-0.14487763]]\n",
      "\n",
      "x train after normalizing\n"
     ]
    },
    {
     "ename": "NameError",
     "evalue": "name 'normalized_x_test' is not defined",
     "output_type": "error",
     "traceback": [
      "\u001b[0;31m---------------------------------------------------------------------------\u001b[0m",
      "\u001b[0;31mNameError\u001b[0m                                 Traceback (most recent call last)",
      "Cell \u001b[0;32mIn [118], line 4\u001b[0m\n\u001b[1;32m      2\u001b[0m \u001b[39mprint\u001b[39m(x_train[\u001b[39m0\u001b[39m:\u001b[39m5\u001b[39m])\n\u001b[1;32m      3\u001b[0m \u001b[39mprint\u001b[39m(\u001b[39m'\u001b[39m\u001b[39m\\n\u001b[39;00m\u001b[39mx train after normalizing\u001b[39m\u001b[39m'\u001b[39m)\n\u001b[0;32m----> 4\u001b[0m \u001b[39mprint\u001b[39m(normalized_x_test[\u001b[39m0\u001b[39m:\u001b[39m5\u001b[39m])\n",
      "\u001b[0;31mNameError\u001b[0m: name 'normalized_x_test' is not defined"
     ]
    }
   ],
   "source": [
    "print('x train before normalizing')\n",
    "print(x_train[0:5])\n",
    "print('\\nx train after normalizing')\n",
    "print(normalized_x_test[0:5])"
   ]
  },
  {
   "cell_type": "code",
   "execution_count": null,
   "id": "6fc2c0e4",
   "metadata": {},
   "outputs": [
    {
     "data": {
      "text/plain": [
       "58356"
      ]
     },
     "execution_count": 49,
     "metadata": {},
     "output_type": "execute_result"
    }
   ],
   "source": [
    "len(x_train)"
   ]
  },
  {
   "cell_type": "code",
   "execution_count": null,
   "id": "a088d87f",
   "metadata": {},
   "outputs": [
    {
     "data": {
      "text/plain": [
       "14590"
      ]
     },
     "execution_count": 50,
     "metadata": {},
     "output_type": "execute_result"
    }
   ],
   "source": [
    "len(x_test)"
   ]
  },
  {
   "cell_type": "code",
   "execution_count": null,
   "id": "d8c43887",
   "metadata": {},
   "outputs": [],
   "source": [
    "from sklearn.neighbors import KNeighborsClassifier\n",
    "knn = KNeighborsClassifier(n_neighbors=5)"
   ]
  },
  {
   "cell_type": "code",
   "execution_count": null,
   "id": "abcb1720",
   "metadata": {},
   "outputs": [
    {
     "name": "stderr",
     "output_type": "stream",
     "text": [
      "/Library/Frameworks/Python.framework/Versions/3.10/lib/python3.10/site-packages/sklearn/neighbors/_classification.py:207: DataConversionWarning: A column-vector y was passed when a 1d array was expected. Please change the shape of y to (n_samples,), for example using ravel().\n",
      "  return self._fit(X, y)\n"
     ]
    },
    {
     "data": {
      "text/html": [
       "<style>#sk-container-id-4 {color: black;background-color: white;}#sk-container-id-4 pre{padding: 0;}#sk-container-id-4 div.sk-toggleable {background-color: white;}#sk-container-id-4 label.sk-toggleable__label {cursor: pointer;display: block;width: 100%;margin-bottom: 0;padding: 0.3em;box-sizing: border-box;text-align: center;}#sk-container-id-4 label.sk-toggleable__label-arrow:before {content: \"▸\";float: left;margin-right: 0.25em;color: #696969;}#sk-container-id-4 label.sk-toggleable__label-arrow:hover:before {color: black;}#sk-container-id-4 div.sk-estimator:hover label.sk-toggleable__label-arrow:before {color: black;}#sk-container-id-4 div.sk-toggleable__content {max-height: 0;max-width: 0;overflow: hidden;text-align: left;background-color: #f0f8ff;}#sk-container-id-4 div.sk-toggleable__content pre {margin: 0.2em;color: black;border-radius: 0.25em;background-color: #f0f8ff;}#sk-container-id-4 input.sk-toggleable__control:checked~div.sk-toggleable__content {max-height: 200px;max-width: 100%;overflow: auto;}#sk-container-id-4 input.sk-toggleable__control:checked~label.sk-toggleable__label-arrow:before {content: \"▾\";}#sk-container-id-4 div.sk-estimator input.sk-toggleable__control:checked~label.sk-toggleable__label {background-color: #d4ebff;}#sk-container-id-4 div.sk-label input.sk-toggleable__control:checked~label.sk-toggleable__label {background-color: #d4ebff;}#sk-container-id-4 input.sk-hidden--visually {border: 0;clip: rect(1px 1px 1px 1px);clip: rect(1px, 1px, 1px, 1px);height: 1px;margin: -1px;overflow: hidden;padding: 0;position: absolute;width: 1px;}#sk-container-id-4 div.sk-estimator {font-family: monospace;background-color: #f0f8ff;border: 1px dotted black;border-radius: 0.25em;box-sizing: border-box;margin-bottom: 0.5em;}#sk-container-id-4 div.sk-estimator:hover {background-color: #d4ebff;}#sk-container-id-4 div.sk-parallel-item::after {content: \"\";width: 100%;border-bottom: 1px solid gray;flex-grow: 1;}#sk-container-id-4 div.sk-label:hover label.sk-toggleable__label {background-color: #d4ebff;}#sk-container-id-4 div.sk-serial::before {content: \"\";position: absolute;border-left: 1px solid gray;box-sizing: border-box;top: 0;bottom: 0;left: 50%;z-index: 0;}#sk-container-id-4 div.sk-serial {display: flex;flex-direction: column;align-items: center;background-color: white;padding-right: 0.2em;padding-left: 0.2em;position: relative;}#sk-container-id-4 div.sk-item {position: relative;z-index: 1;}#sk-container-id-4 div.sk-parallel {display: flex;align-items: stretch;justify-content: center;background-color: white;position: relative;}#sk-container-id-4 div.sk-item::before, #sk-container-id-4 div.sk-parallel-item::before {content: \"\";position: absolute;border-left: 1px solid gray;box-sizing: border-box;top: 0;bottom: 0;left: 50%;z-index: -1;}#sk-container-id-4 div.sk-parallel-item {display: flex;flex-direction: column;z-index: 1;position: relative;background-color: white;}#sk-container-id-4 div.sk-parallel-item:first-child::after {align-self: flex-end;width: 50%;}#sk-container-id-4 div.sk-parallel-item:last-child::after {align-self: flex-start;width: 50%;}#sk-container-id-4 div.sk-parallel-item:only-child::after {width: 0;}#sk-container-id-4 div.sk-dashed-wrapped {border: 1px dashed gray;margin: 0 0.4em 0.5em 0.4em;box-sizing: border-box;padding-bottom: 0.4em;background-color: white;}#sk-container-id-4 div.sk-label label {font-family: monospace;font-weight: bold;display: inline-block;line-height: 1.2em;}#sk-container-id-4 div.sk-label-container {text-align: center;}#sk-container-id-4 div.sk-container {/* jupyter's `normalize.less` sets `[hidden] { display: none; }` but bootstrap.min.css set `[hidden] { display: none !important; }` so we also need the `!important` here to be able to override the default hidden behavior on the sphinx rendered scikit-learn.org. See: https://github.com/scikit-learn/scikit-learn/issues/21755 */display: inline-block !important;position: relative;}#sk-container-id-4 div.sk-text-repr-fallback {display: none;}</style><div id=\"sk-container-id-4\" class=\"sk-top-container\"><div class=\"sk-text-repr-fallback\"><pre>KNeighborsClassifier()</pre><b>In a Jupyter environment, please rerun this cell to show the HTML representation or trust the notebook. <br />On GitHub, the HTML representation is unable to render, please try loading this page with nbviewer.org.</b></div><div class=\"sk-container\" hidden><div class=\"sk-item\"><div class=\"sk-estimator sk-toggleable\"><input class=\"sk-toggleable__control sk-hidden--visually\" id=\"sk-estimator-id-4\" type=\"checkbox\" checked><label for=\"sk-estimator-id-4\" class=\"sk-toggleable__label sk-toggleable__label-arrow\">KNeighborsClassifier</label><div class=\"sk-toggleable__content\"><pre>KNeighborsClassifier()</pre></div></div></div></div></div>"
      ],
      "text/plain": [
       "KNeighborsClassifier()"
      ]
     },
     "execution_count": 194,
     "metadata": {},
     "output_type": "execute_result"
    }
   ],
   "source": [
    "knn.fit(x_train, y_train)"
   ]
  },
  {
   "cell_type": "code",
   "execution_count": null,
   "id": "620732ad",
   "metadata": {},
   "outputs": [
    {
     "data": {
      "text/plain": [
       "array(['New Zealand', 'Japan', 'United States', ..., 'Russia', 'France',\n",
       "       'Egypt'], dtype=object)"
      ]
     },
     "execution_count": 195,
     "metadata": {},
     "output_type": "execute_result"
    }
   ],
   "source": [
    "# Predict the test set results\n",
    "y_pred = knn.predict(x_test)\n",
    "y_pred"
   ]
  },
  {
   "cell_type": "code",
   "execution_count": null,
   "metadata": {},
   "outputs": [
    {
     "data": {
      "text/plain": [
       "array(['China'], dtype=object)"
      ]
     },
     "execution_count": 196,
     "metadata": {},
     "output_type": "execute_result"
    }
   ],
   "source": [
    "knn.predict([[60.514099121094,22.262800216674,130]])"
   ]
  },
  {
   "cell_type": "code",
   "execution_count": null,
   "metadata": {},
   "outputs": [],
   "source": [
    "# x_train"
   ]
  },
  {
   "cell_type": "code",
   "execution_count": null,
   "metadata": {},
   "outputs": [
    {
     "data": {
      "text/plain": [
       "array([[3, 0, 0, ..., 0, 0, 0],\n",
       "       [0, 0, 0, ..., 0, 0, 0],\n",
       "       [0, 0, 8, ..., 0, 0, 0],\n",
       "       ...,\n",
       "       [0, 0, 0, ..., 0, 0, 0],\n",
       "       [0, 0, 0, ..., 0, 2, 0],\n",
       "       [0, 0, 0, ..., 0, 0, 1]])"
      ]
     },
     "execution_count": 198,
     "metadata": {},
     "output_type": "execute_result"
    }
   ],
   "source": [
    "# Evaluate the model\n",
    "from sklearn.metrics import confusion_matrix\n",
    "y_pred = knn.predict(x_test)\n",
    "cm = confusion_matrix(y_test, y_pred)\n",
    "cm"
   ]
  },
  {
   "cell_type": "code",
   "execution_count": null,
   "metadata": {},
   "outputs": [
    {
     "name": "stdout",
     "output_type": "stream",
     "text": [
      "0.7828571428571428\n"
     ]
    }
   ],
   "source": [
    "print(accuracy_score(y_test, y_pred))\n",
    "# or knn.score(x_test, y_test)"
   ]
  }
 ],
 "metadata": {
  "kernelspec": {
   "display_name": "Python 3.10.7 64-bit",
   "language": "python",
   "name": "python3"
  },
  "language_info": {
   "codemirror_mode": {
    "name": "ipython",
    "version": 3
   },
   "file_extension": ".py",
   "mimetype": "text/x-python",
   "name": "python",
   "nbconvert_exporter": "python",
   "pygments_lexer": "ipython3",
   "version": "3.10.7"
  },
  "vscode": {
   "interpreter": {
    "hash": "aee8b7b246df8f9039afb4144a1f6fd8d2ca17a180786b69acc140d282b71a49"
   }
  }
 },
 "nbformat": 4,
 "nbformat_minor": 5
}
