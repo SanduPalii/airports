{
 "cells": [
  {
   "cell_type": "code",
<<<<<<< HEAD
   "execution_count": 1,
=======
   "execution_count": 48,
>>>>>>> ef97598e97b6a70af72ba48c1c7f9a6896176c94
   "source": [
    "# This file is basically based on the link below, although I have taken many part out from that for illustration purposes!\r\n",
    "# https://deepnote.com/@ndungu/Implementing-KNN-Algorithm-on-the-Iris-Dataset-58Fkk1AMQki-VJOJ3mA_Fg"
   ],
   "outputs": [],
   "metadata": {}
  },
  {
   "cell_type": "code",
<<<<<<< HEAD
   "execution_count": 2,
=======
   "execution_count": 49,
>>>>>>> ef97598e97b6a70af72ba48c1c7f9a6896176c94
   "source": [
    "import matplotlib.pyplot as plt\r\n",
    "import numpy as np\r\n",
    "import pandas as pd\r\n",
    "import seaborn as sns\r\n",
    "\r\n",
    "from sklearn import datasets\r\n",
    "from sklearn.model_selection import train_test_split , KFold\r\n",
    "from sklearn.preprocessing import Normalizer\r\n",
    "from sklearn.metrics import accuracy_score\r\n",
    "from sklearn.neighbors import KNeighborsClassifier\r\n",
    "from sklearn.preprocessing import StandardScaler\r\n",
    "\r\n",
    "from collections import Counter"
   ],
   "outputs": [],
   "metadata": {}
  },
  {
   "cell_type": "code",
   "execution_count": 3,
   "source": [
    "airports=pd.read_csv('data.csv')\r\n",
    "print( len(airports) )\r\n",
    "print( airports.head() )"
   ],
   "outputs": [
    {
     "output_type": "stream",
     "name": "stdout",
     "text": [
      "7698\n",
      "   airport_id                                       \"name\"        \"city\"  \\\n",
      "0           1                               Goroka Airport        Goroka   \n",
      "1           2                               Madang Airport        Madang   \n",
      "2           3                 Mount Hagen Kagamuga Airport   Mount Hagen   \n",
      "3           4                               Nadzab Airport        Nadzab   \n",
      "4           5  Port Moresby Jacksons International Airport  Port Moresby   \n",
      "\n",
      "          \"country\"  \"iata\"  \"icao\"   \"latitude\"   \"longitude\"   \"altitude\"  \\\n",
      "0  Papua New Guinea     GKA    AYGA    -6.081690    145.391998         5282   \n",
      "1  Papua New Guinea     MAG    AYMD    -5.207080    145.789001           20   \n",
      "2  Papua New Guinea     HGU    AYMH    -5.826790    144.296005         5388   \n",
      "3  Papua New Guinea     LAE    AYNZ    -6.569803    146.725977          239   \n",
      "4  Papua New Guinea     POM    AYPY    -9.443380    147.220001          146   \n",
      "\n",
      "    \"timezone\"  \"dst\"       \"timezone_name\"   \"type\"     \"source\"  \n",
      "0         10.0      U  Pacific/Port_Moresby  airport  OurAirports  \n",
      "1         10.0      U  Pacific/Port_Moresby  airport  OurAirports  \n",
      "2         10.0      U  Pacific/Port_Moresby  airport  OurAirports  \n",
      "3         10.0      U  Pacific/Port_Moresby  airport  OurAirports  \n",
      "4         10.0      U  Pacific/Port_Moresby  airport  OurAirports  \n"
     ]
    }
   ],
   "metadata": {}
  },
  {
   "cell_type": "code",
   "execution_count": 4,
   "source": [
    "airports.columns"
   ],
   "outputs": [
    {
     "output_type": "execute_result",
     "data": {
      "text/plain": [
       "Index(['airport_id', ' \"name\"', ' \"city\"', ' \"country\"', ' \"iata\"', ' \"icao\"',\n",
       "       ' \"latitude\"', ' \"longitude\"', ' \"altitude\"', ' \"timezone\"', ' \"dst\"',\n",
       "       ' \"timezone_name\"', ' \"type\"', ' \"source\"'],\n",
       "      dtype='object')"
      ]
     },
     "metadata": {},
     "execution_count": 4
    }
   ],
   "metadata": {}
  },
  {
   "cell_type": "code",
   "execution_count": 5,
   "source": [
    "airports.describe"
   ],
   "outputs": [
    {
     "output_type": "execute_result",
     "data": {
      "text/plain": [
       "<bound method NDFrame.describe of       airport_id                                       \"name\"        \"city\"  \\\n",
       "0              1                               Goroka Airport        Goroka   \n",
       "1              2                               Madang Airport        Madang   \n",
       "2              3                 Mount Hagen Kagamuga Airport   Mount Hagen   \n",
       "3              4                               Nadzab Airport        Nadzab   \n",
       "4              5  Port Moresby Jacksons International Airport  Port Moresby   \n",
       "...          ...                                          ...           ...   \n",
       "7693       14106                          Rogachyovo Air Base        Belaya   \n",
       "7694       14107                        Ulan-Ude East Airport      Ulan Ude   \n",
       "7695       14108                         Krechevitsy Air Base      Novgorod   \n",
       "7696       14109                  Desierto de Atacama Airport       Copiapo   \n",
       "7697       14110                           Melitopol Air Base     Melitopol   \n",
       "\n",
       "             \"country\"  \"iata\"  \"icao\"   \"latitude\"   \"longitude\"  \\\n",
       "0     Papua New Guinea     GKA    AYGA    -6.081690    145.391998   \n",
       "1     Papua New Guinea     MAG    AYMD    -5.207080    145.789001   \n",
       "2     Papua New Guinea     HGU    AYMH    -5.826790    144.296005   \n",
       "3     Papua New Guinea     LAE    AYNZ    -6.569803    146.725977   \n",
       "4     Papua New Guinea     POM    AYPY    -9.443380    147.220001   \n",
       "...                ...     ...     ...          ...           ...   \n",
       "7693            Russia     NaN    ULDA    71.616699     52.478298   \n",
       "7694            Russia     NaN    XIUW    51.849998    107.737999   \n",
       "7695            Russia     NaN    ULLK    58.625000     31.385000   \n",
       "7696             Chile     CPO    SCAT   -27.261200    -70.779198   \n",
       "7697           Ukraine     NaN    UKDM    46.880001     35.305000   \n",
       "\n",
       "       \"altitude\"   \"timezone\"  \"dst\"       \"timezone_name\"   \"type\"  \\\n",
       "0            5282         10.0      U  Pacific/Port_Moresby  airport   \n",
       "1              20         10.0      U  Pacific/Port_Moresby  airport   \n",
       "2            5388         10.0      U  Pacific/Port_Moresby  airport   \n",
       "3             239         10.0      U  Pacific/Port_Moresby  airport   \n",
       "4             146         10.0      U  Pacific/Port_Moresby  airport   \n",
       "...           ...          ...    ...                   ...      ...   \n",
       "7693          272          NaN    NaN                   NaN  airport   \n",
       "7694         1670          NaN    NaN                   NaN  airport   \n",
       "7695           85          NaN    NaN                   NaN  airport   \n",
       "7696          670          NaN    NaN                   NaN  airport   \n",
       "7697            0          NaN    NaN                   NaN  airport   \n",
       "\n",
       "         \"source\"  \n",
       "0     OurAirports  \n",
       "1     OurAirports  \n",
       "2     OurAirports  \n",
       "3     OurAirports  \n",
       "4     OurAirports  \n",
       "...           ...  \n",
       "7693  OurAirports  \n",
       "7694  OurAirports  \n",
       "7695  OurAirports  \n",
       "7696  OurAirports  \n",
       "7697  OurAirports  \n",
       "\n",
       "[7698 rows x 14 columns]>"
      ]
     },
     "metadata": {},
     "execution_count": 5
    }
   ],
   "metadata": {}
  },
  {
   "cell_type": "code",
   "execution_count": 22,
   "source": [
    "# pd.DataFrame(airports[' \\\"longitude\\\"', ' \\\"latitude\\\"'], axis ='columns')\r\n",
    "\r\n",
    "x = airports.drop(['airport_id', ' \"name\"', ' \"city\"', ' \"country\"', ' \"iata\"', ' \"icao\"',\r\n",
    "    ' \"timezone\"', ' \"dst\"',\r\n",
    "       ' \"timezone_name\"', ' \"type\"', ' \"source\"'], axis ='columns')\r\n",
    "y = airports.drop(['airport_id', ' \"name\"', ' \"city\"', ' \"iata\"', ' \"icao\"',\r\n",
    "       ' \"latitude\"', ' \"longitude\"', ' \"altitude\"', ' \"timezone\"', ' \"dst\"',\r\n",
    "       ' \"timezone_name\"', ' \"type\"', ' \"source\"'], axis ='columns')"
   ],
   "outputs": [],
   "metadata": {}
  },
  {
   "cell_type": "code",
   "execution_count": 7,
   "source": [
    "# Split the dataset\r\n",
    "#x = airports.iloc[:, 0:13]\r\n",
    "#y = airports.iloc[:, 13]\r\n",
    "x_train, x_test, y_train, y_test= train_test_split(x, y, test_size= 0.25, random_state=0)  "
   ],
   "outputs": [],
   "metadata": {}
  },
  {
   "cell_type": "code",
   "execution_count": 8,
   "source": [
    "x.head()"
   ],
   "outputs": [
    {
     "output_type": "execute_result",
     "data": {
      "text/plain": [
       "    \"latitude\"   \"longitude\"   \"altitude\"\n",
       "0    -6.081690    145.391998         5282\n",
       "1    -5.207080    145.789001           20\n",
       "2    -5.826790    144.296005         5388\n",
       "3    -6.569803    146.725977          239\n",
       "4    -9.443380    147.220001          146"
      ],
      "text/html": [
       "<div>\n",
       "<style scoped>\n",
       "    .dataframe tbody tr th:only-of-type {\n",
       "        vertical-align: middle;\n",
       "    }\n",
       "\n",
       "    .dataframe tbody tr th {\n",
       "        vertical-align: top;\n",
       "    }\n",
       "\n",
       "    .dataframe thead th {\n",
       "        text-align: right;\n",
       "    }\n",
       "</style>\n",
       "<table border=\"1\" class=\"dataframe\">\n",
       "  <thead>\n",
       "    <tr style=\"text-align: right;\">\n",
       "      <th></th>\n",
       "      <th>\"latitude\"</th>\n",
       "      <th>\"longitude\"</th>\n",
       "      <th>\"altitude\"</th>\n",
       "    </tr>\n",
       "  </thead>\n",
       "  <tbody>\n",
       "    <tr>\n",
       "      <th>0</th>\n",
       "      <td>-6.081690</td>\n",
       "      <td>145.391998</td>\n",
       "      <td>5282</td>\n",
       "    </tr>\n",
       "    <tr>\n",
       "      <th>1</th>\n",
       "      <td>-5.207080</td>\n",
       "      <td>145.789001</td>\n",
       "      <td>20</td>\n",
       "    </tr>\n",
       "    <tr>\n",
       "      <th>2</th>\n",
       "      <td>-5.826790</td>\n",
       "      <td>144.296005</td>\n",
       "      <td>5388</td>\n",
       "    </tr>\n",
       "    <tr>\n",
       "      <th>3</th>\n",
       "      <td>-6.569803</td>\n",
       "      <td>146.725977</td>\n",
       "      <td>239</td>\n",
       "    </tr>\n",
       "    <tr>\n",
       "      <th>4</th>\n",
       "      <td>-9.443380</td>\n",
       "      <td>147.220001</td>\n",
       "      <td>146</td>\n",
       "    </tr>\n",
       "  </tbody>\n",
       "</table>\n",
       "</div>"
      ]
     },
     "metadata": {},
     "execution_count": 8
    }
   ],
   "metadata": {}
  },
  {
   "cell_type": "code",
   "execution_count": 9,
   "source": [
    "y.head()"
   ],
   "outputs": [
    {
     "output_type": "execute_result",
     "data": {
      "text/plain": [
       "          \"country\"\n",
       "0  Papua New Guinea\n",
       "1  Papua New Guinea\n",
       "2  Papua New Guinea\n",
       "3  Papua New Guinea\n",
       "4  Papua New Guinea"
      ],
      "text/html": [
       "<div>\n",
       "<style scoped>\n",
       "    .dataframe tbody tr th:only-of-type {\n",
       "        vertical-align: middle;\n",
       "    }\n",
       "\n",
       "    .dataframe tbody tr th {\n",
       "        vertical-align: top;\n",
       "    }\n",
       "\n",
       "    .dataframe thead th {\n",
       "        text-align: right;\n",
       "    }\n",
       "</style>\n",
       "<table border=\"1\" class=\"dataframe\">\n",
       "  <thead>\n",
       "    <tr style=\"text-align: right;\">\n",
       "      <th></th>\n",
       "      <th>\"country\"</th>\n",
       "    </tr>\n",
       "  </thead>\n",
       "  <tbody>\n",
       "    <tr>\n",
       "      <th>0</th>\n",
       "      <td>Papua New Guinea</td>\n",
       "    </tr>\n",
       "    <tr>\n",
       "      <th>1</th>\n",
       "      <td>Papua New Guinea</td>\n",
       "    </tr>\n",
       "    <tr>\n",
       "      <th>2</th>\n",
       "      <td>Papua New Guinea</td>\n",
       "    </tr>\n",
       "    <tr>\n",
       "      <th>3</th>\n",
       "      <td>Papua New Guinea</td>\n",
       "    </tr>\n",
       "    <tr>\n",
       "      <th>4</th>\n",
       "      <td>Papua New Guinea</td>\n",
       "    </tr>\n",
       "  </tbody>\n",
       "</table>\n",
       "</div>"
      ]
     },
     "metadata": {},
     "execution_count": 9
    }
   ],
   "metadata": {}
  },
  {
   "cell_type": "code",
   "execution_count": 10,
   "source": [
    "# Feature scaling\r\n",
    "#sc_x = StandardScaler()\r\n",
    "#x_train = sc_x.fit_transform(x_train)\r\n",
    "#x_test = sc_x.transform(x_test)"
   ],
   "outputs": [],
   "metadata": {}
  },
  {
   "cell_type": "code",
   "execution_count": 11,
   "source": [
    "# Normalizing dataset\r\n",
    "scaler= Normalizer().fit(x_train) # the scaler is fitted to the training set\r\n",
    "normalized_x_train= scaler.transform(x_train) # the scaler is applied to the training set\r\n",
    "normalized_x_test= scaler.transform(x_test) # the scaler is applied to the test set"
   ],
   "outputs": [],
   "metadata": {}
  },
  {
   "cell_type": "code",
   "execution_count": 12,
   "source": [
    "print('x train before normalizing')\r\n",
    "print(x_train[0:5])\r\n",
    "print('\\nx train after normalizing')\r\n",
    "print(normalized_x_test[0:5])"
   ],
   "outputs": [
    {
     "output_type": "stream",
     "name": "stdout",
     "text": [
      "x train before normalizing\n",
      "       \"latitude\"   \"longitude\"   \"altitude\"\n",
      "7492    46.029320      7.753366            0\n",
      "2100    25.252800     55.364399           62\n",
      "7086    31.275700    -85.713402          301\n",
      "3101     5.069510     97.259201           28\n",
      "2329   -39.000702    -67.620499          852\n",
      "\n",
      "x train after normalizing\n",
      "[[-0.19202085  0.85740073  0.47748506]\n",
      " [ 0.23402094  0.90889467  0.34517341]\n",
      " [ 0.03214984 -0.06367937  0.99745242]\n",
      " [ 0.28379846  0.95888395  0.        ]\n",
      " [-0.28783492  0.9264952   0.24239987]]\n"
     ]
    }
   ],
   "metadata": {}
  },
  {
   "cell_type": "code",
   "execution_count": 13,
   "source": [
    "len(x_train)"
   ],
   "outputs": [
    {
     "output_type": "execute_result",
     "data": {
      "text/plain": [
       "5773"
      ]
     },
     "metadata": {},
     "execution_count": 13
    }
   ],
   "metadata": {}
  },
  {
   "cell_type": "code",
   "execution_count": 14,
   "source": [
    "len(x_test)"
   ],
   "outputs": [
    {
     "output_type": "execute_result",
     "data": {
      "text/plain": [
       "1925"
      ]
     },
     "metadata": {},
     "execution_count": 14
    }
   ],
   "metadata": {}
  },
  {
   "cell_type": "code",
   "execution_count": 15,
   "source": [
    "from sklearn.neighbors import KNeighborsClassifier\r\n",
    "knn = KNeighborsClassifier(n_neighbors=5)"
   ],
   "outputs": [],
   "metadata": {}
  },
  {
   "cell_type": "code",
   "execution_count": 16,
   "source": [
    "knn.fit(x_train, y_train)"
   ],
   "outputs": [
    {
     "output_type": "stream",
     "name": "stderr",
     "text": [
      "C:\\Users\\Dell\\AppData\\Local\\Programs\\Python\\Python310\\lib\\site-packages\\sklearn\\neighbors\\_classification.py:207: DataConversionWarning: A column-vector y was passed when a 1d array was expected. Please change the shape of y to (n_samples,), for example using ravel().\n",
      "  return self._fit(X, y)\n"
     ]
    },
    {
     "output_type": "execute_result",
     "data": {
      "text/plain": [
       "KNeighborsClassifier()"
      ],
      "text/html": [
       "<style>#sk-container-id-1 {color: black;background-color: white;}#sk-container-id-1 pre{padding: 0;}#sk-container-id-1 div.sk-toggleable {background-color: white;}#sk-container-id-1 label.sk-toggleable__label {cursor: pointer;display: block;width: 100%;margin-bottom: 0;padding: 0.3em;box-sizing: border-box;text-align: center;}#sk-container-id-1 label.sk-toggleable__label-arrow:before {content: \"▸\";float: left;margin-right: 0.25em;color: #696969;}#sk-container-id-1 label.sk-toggleable__label-arrow:hover:before {color: black;}#sk-container-id-1 div.sk-estimator:hover label.sk-toggleable__label-arrow:before {color: black;}#sk-container-id-1 div.sk-toggleable__content {max-height: 0;max-width: 0;overflow: hidden;text-align: left;background-color: #f0f8ff;}#sk-container-id-1 div.sk-toggleable__content pre {margin: 0.2em;color: black;border-radius: 0.25em;background-color: #f0f8ff;}#sk-container-id-1 input.sk-toggleable__control:checked~div.sk-toggleable__content {max-height: 200px;max-width: 100%;overflow: auto;}#sk-container-id-1 input.sk-toggleable__control:checked~label.sk-toggleable__label-arrow:before {content: \"▾\";}#sk-container-id-1 div.sk-estimator input.sk-toggleable__control:checked~label.sk-toggleable__label {background-color: #d4ebff;}#sk-container-id-1 div.sk-label input.sk-toggleable__control:checked~label.sk-toggleable__label {background-color: #d4ebff;}#sk-container-id-1 input.sk-hidden--visually {border: 0;clip: rect(1px 1px 1px 1px);clip: rect(1px, 1px, 1px, 1px);height: 1px;margin: -1px;overflow: hidden;padding: 0;position: absolute;width: 1px;}#sk-container-id-1 div.sk-estimator {font-family: monospace;background-color: #f0f8ff;border: 1px dotted black;border-radius: 0.25em;box-sizing: border-box;margin-bottom: 0.5em;}#sk-container-id-1 div.sk-estimator:hover {background-color: #d4ebff;}#sk-container-id-1 div.sk-parallel-item::after {content: \"\";width: 100%;border-bottom: 1px solid gray;flex-grow: 1;}#sk-container-id-1 div.sk-label:hover label.sk-toggleable__label {background-color: #d4ebff;}#sk-container-id-1 div.sk-serial::before {content: \"\";position: absolute;border-left: 1px solid gray;box-sizing: border-box;top: 0;bottom: 0;left: 50%;z-index: 0;}#sk-container-id-1 div.sk-serial {display: flex;flex-direction: column;align-items: center;background-color: white;padding-right: 0.2em;padding-left: 0.2em;position: relative;}#sk-container-id-1 div.sk-item {position: relative;z-index: 1;}#sk-container-id-1 div.sk-parallel {display: flex;align-items: stretch;justify-content: center;background-color: white;position: relative;}#sk-container-id-1 div.sk-item::before, #sk-container-id-1 div.sk-parallel-item::before {content: \"\";position: absolute;border-left: 1px solid gray;box-sizing: border-box;top: 0;bottom: 0;left: 50%;z-index: -1;}#sk-container-id-1 div.sk-parallel-item {display: flex;flex-direction: column;z-index: 1;position: relative;background-color: white;}#sk-container-id-1 div.sk-parallel-item:first-child::after {align-self: flex-end;width: 50%;}#sk-container-id-1 div.sk-parallel-item:last-child::after {align-self: flex-start;width: 50%;}#sk-container-id-1 div.sk-parallel-item:only-child::after {width: 0;}#sk-container-id-1 div.sk-dashed-wrapped {border: 1px dashed gray;margin: 0 0.4em 0.5em 0.4em;box-sizing: border-box;padding-bottom: 0.4em;background-color: white;}#sk-container-id-1 div.sk-label label {font-family: monospace;font-weight: bold;display: inline-block;line-height: 1.2em;}#sk-container-id-1 div.sk-label-container {text-align: center;}#sk-container-id-1 div.sk-container {/* jupyter's `normalize.less` sets `[hidden] { display: none; }` but bootstrap.min.css set `[hidden] { display: none !important; }` so we also need the `!important` here to be able to override the default hidden behavior on the sphinx rendered scikit-learn.org. See: https://github.com/scikit-learn/scikit-learn/issues/21755 */display: inline-block !important;position: relative;}#sk-container-id-1 div.sk-text-repr-fallback {display: none;}</style><div id=\"sk-container-id-1\" class=\"sk-top-container\"><div class=\"sk-text-repr-fallback\"><pre>KNeighborsClassifier()</pre><b>In a Jupyter environment, please rerun this cell to show the HTML representation or trust the notebook. <br />On GitHub, the HTML representation is unable to render, please try loading this page with nbviewer.org.</b></div><div class=\"sk-container\" hidden><div class=\"sk-item\"><div class=\"sk-estimator sk-toggleable\"><input class=\"sk-toggleable__control sk-hidden--visually\" id=\"sk-estimator-id-1\" type=\"checkbox\" checked><label for=\"sk-estimator-id-1\" class=\"sk-toggleable__label sk-toggleable__label-arrow\">KNeighborsClassifier</label><div class=\"sk-toggleable__content\"><pre>KNeighborsClassifier()</pre></div></div></div></div></div>"
      ]
     },
     "metadata": {},
     "execution_count": 16
    }
   ],
   "metadata": {}
  },
  {
   "cell_type": "code",
   "execution_count": 17,
   "source": [
    "# Predict the test set results\r\n",
    "y_pred = knn.predict(x_test)\r\n",
    "y_pred"
   ],
   "outputs": [
    {
     "output_type": "execute_result",
     "data": {
      "text/plain": [
       "array(['New Zealand', 'South Korea', 'United States', ..., 'Russia',\n",
       "       'France', 'Greece'], dtype=object)"
      ]
     },
     "metadata": {},
     "execution_count": 17
    }
   ],
   "metadata": {}
  },
  {
   "cell_type": "code",
   "execution_count": 18,
   "source": [
    "knn.predict([[60.514099121094,22.262800216674,130]])"
   ],
   "outputs": [
    {
     "output_type": "stream",
     "name": "stderr",
     "text": [
      "C:\\Users\\Dell\\AppData\\Local\\Programs\\Python\\Python310\\lib\\site-packages\\sklearn\\base.py:450: UserWarning: X does not have valid feature names, but KNeighborsClassifier was fitted with feature names\n",
      "  warnings.warn(\n"
     ]
    },
    {
     "output_type": "execute_result",
     "data": {
      "text/plain": [
       "array(['Sweden'], dtype=object)"
      ]
     },
     "metadata": {},
     "execution_count": 18
    }
   ],
   "metadata": {}
  },
  {
   "cell_type": "code",
   "execution_count": 19,
   "source": [
    "# x_train"
   ],
   "outputs": [],
   "metadata": {}
  },
  {
   "cell_type": "code",
   "execution_count": 20,
   "source": [
    "# Evaluate the model\r\n",
    "from sklearn.metrics import confusion_matrix\r\n",
    "y_pred = knn.predict(x_test)\r\n",
    "cm = confusion_matrix(y_test, y_pred)\r\n",
    "cm"
   ],
   "outputs": [
    {
     "output_type": "execute_result",
     "data": {
      "text/plain": [
       "array([[1, 0, 1, ..., 0, 0, 0],\n",
       "       [0, 0, 0, ..., 0, 0, 0],\n",
       "       [0, 0, 3, ..., 0, 0, 0],\n",
       "       ...,\n",
       "       [0, 0, 0, ..., 0, 0, 0],\n",
       "       [0, 0, 0, ..., 0, 0, 0],\n",
       "       [0, 0, 0, ..., 0, 0, 0]], dtype=int64)"
      ]
     },
     "metadata": {},
     "execution_count": 20
    }
   ],
   "metadata": {}
  },
  {
   "cell_type": "code",
   "execution_count": 21,
   "source": [
    "print(accuracy_score(y_test, y_pred))\r\n",
    "# or knn.score(x_test, y_test)"
   ],
   "outputs": [
    {
     "output_type": "stream",
     "name": "stdout",
     "text": [
      "0.5262337662337663\n"
     ]
    }
   ],
   "metadata": {}
  }
 ],
 "metadata": {
  "kernelspec": {
   "name": "python3",
   "display_name": "Python 3.10.6 64-bit"
  },
  "language_info": {
   "codemirror_mode": {
    "name": "ipython",
    "version": 3
   },
   "file_extension": ".py",
   "mimetype": "text/x-python",
   "name": "python",
   "nbconvert_exporter": "python",
   "pygments_lexer": "ipython3",
   "version": "3.10.6"
  },
  "vscode": {
   "interpreter": {
    "hash": "aee8b7b246df8f9039afb4144a1f6fd8d2ca17a180786b69acc140d282b71a49"
   }
  },
  "interpreter": {
   "hash": "a29e1fb6683002b636560db254076994f59567f0270ab4cc0d58f0bc21ebc82f"
  }
 },
 "nbformat": 4,
 "nbformat_minor": 5
}